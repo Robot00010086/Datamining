{
 "cells": [
  {
   "cell_type": "code",
   "execution_count": 1,
   "metadata": {},
   "outputs": [],
   "source": [
    "import os\n",
    "os.environ[\"CUDA_VISIBLE_DEVICES\"] = \"0,1\"\n",
    "os.environ[\"TOKENIZERS_PARALLELISM\"] = \"false\""
   ]
  },
  {
   "cell_type": "code",
   "execution_count": 2,
   "metadata": {},
   "outputs": [],
   "source": [
    "import warnings\n",
    "warnings.filterwarnings(\"ignore\")"
   ]
  },
  {
   "cell_type": "code",
   "execution_count": 3,
   "metadata": {},
   "outputs": [],
   "source": [
    "import numpy as np\n",
    "import pandas as pd\n",
    "import os\n",
    "from tqdm import tqdm\n",
    "import bitsandbytes as bnb\n",
    "import torch\n",
    "import torch.nn as nn\n",
    "import transformers\n",
    "from datasets import Dataset\n",
    "from peft import LoraConfig, PeftConfig\n",
    "from trl import SFTTrainer\n",
    "from trl import setup_chat_format\n",
    "from transformers import (AutoModelForCausalLM, \n",
    "                          AutoTokenizer, \n",
    "                          BitsAndBytesConfig, \n",
    "                          TrainingArguments, \n",
    "                          pipeline, \n",
    "                          logging)\n",
    "from sklearn.metrics import (accuracy_score, \n",
    "                             classification_report, \n",
    "                             confusion_matrix)\n",
    "from sklearn.model_selection import train_test_split"
   ]
  },
  {
   "cell_type": "code",
   "execution_count": 4,
   "metadata": {},
   "outputs": [
    {
     "name": "stdout",
     "output_type": "stream",
     "text": [
      "pytorch version 2.1.2+cu121\n"
     ]
    }
   ],
   "source": [
    "print(f\"pytorch version {torch.__version__}\")"
   ]
  },
  {
   "cell_type": "code",
   "execution_count": 5,
   "metadata": {},
   "outputs": [
    {
     "name": "stdout",
     "output_type": "stream",
     "text": [
      "  sentiment                                               text  \\\n",
      "0  positive                  I got it well before my due date.   \n",
      "1  positive  Thank you lannister stores I loved to buy thro...   \n",
      "2  positive  I recommend it. I think it's effective. On the...   \n",
      "\n",
      "                          review_id                          order_id  \\\n",
      "0  e64fb393e7b32834bb789ff8bb30750e  658677c97b385a9be170737859d3511b   \n",
      "1  f7c4243c7fe1938f181bec41a392bdeb  8e6bfb81e283fa7e4f11123a3fb894f1   \n",
      "2  8670d52e15e00043ae7de4c01cc2fe06  b9bf720beb4ab3728760088589c62129   \n",
      "\n",
      "   review_score review_comment_title  \\\n",
      "0             5                  NaN   \n",
      "1             5                  NaN   \n",
      "2             4            recomendo   \n",
      "\n",
      "                              review_comment_message review_creation_date  \\\n",
      "0              Recebi bem antes do prazo estipulado.  2017-04-21 00:00:00   \n",
      "1  Parabéns lojas lannister adorei comprar pela I...  2018-03-01 00:00:00   \n",
      "2  aparelho eficiente. no site a marca do aparelh...  2018-05-22 00:00:00   \n",
      "\n",
      "  review_answer_timestamp  \n",
      "0     2017-04-21 22:02:06  \n",
      "1     2018-03-02 10:26:53  \n",
      "2     2018-05-23 16:45:47  \n"
     ]
    }
   ],
   "source": [
    "filename = \"/home/user10/code/datamining/output/translated_reviews_41600.csv\"\n",
    "df = pd.read_csv(filename,encoding=\"utf-8\", encoding_errors=\"replace\")\n",
    "print(df.head(3))\n",
    "df['prompt'] = df['text'].apply(\n",
    "    lambda row: f\"\"\"\n",
    "                Analyze the sentiment of the news headline enclosed in square brackets, \n",
    "                determine if it is positive, neutral, or negative, and return the answer as \n",
    "                the corresponding sentiment label \"positive\" or \"neutral\" or \"negative\".\n",
    "\n",
    "                [{row}] = \"\"\".strip()\n",
    "               )\n"
   ]
  },
  {
   "cell_type": "code",
   "execution_count": 6,
   "metadata": {},
   "outputs": [
    {
     "name": "stdout",
     "output_type": "stream",
     "text": [
      "working on balanced\n"
     ]
    }
   ],
   "source": [
    "# device = torch.device(\"cuda:0\" if torch.cuda.is_available() else \"cpu\")\n",
    "device=\"balanced\"\n",
    "print(f\"working on {device}\")"
   ]
  },
  {
   "cell_type": "code",
   "execution_count": 7,
   "metadata": {},
   "outputs": [
    {
     "name": "stderr",
     "output_type": "stream",
     "text": [
      "Loading checkpoint shards: 100%|██████████| 2/2 [00:12<00:00,  6.32s/it]\n",
      "Special tokens have been added in the vocabulary, make sure the associated word embeddings are fine-tuned or trained.\n"
     ]
    }
   ],
   "source": [
    "from peft import AutoPeftModelForCausalLM\n",
    "\n",
    "finetuned_model = \"./trained_weigths/\"\n",
    "compute_dtype = getattr(torch, \"float16\")\n",
    "tokenizer = AutoTokenizer.from_pretrained(\"/home/user10/code/datamining/input\")\n",
    "\n",
    "model = AutoPeftModelForCausalLM.from_pretrained(\n",
    "     finetuned_model,\n",
    "     torch_dtype=compute_dtype,\n",
    "     return_dict=False,\n",
    "     low_cpu_mem_usage=True,\n",
    "     device_map=\"balanced\",\n",
    ")\n",
    "\n",
    "merged_model = model.merge_and_unload()\n",
    "# merged_model.save_pretrained(\"./merged_model\",safe_serialization=True, max_shard_size=\"2GB\")\n",
    "# tokenizer.save_pretrained(\"./merged_model\")"
   ]
  },
  {
   "cell_type": "code",
   "execution_count": 10,
   "metadata": {},
   "outputs": [],
   "source": [
    "\n",
    "def save_df(texts,df):\n",
    "    os.system(\"clear\")\n",
    "    n=len(texts)\n",
    "    print(len(texts))\n",
    "    new_df=df[:len(texts)]\n",
    "    new_df['predict_sentiment']=texts\n",
    "    result_df = new_df[['sentiment','predict_sentiment', 'text','review_id', 'order_id', 'review_score', 'review_comment_title','review_comment_message', 'review_creation_date','review_answer_timestamp']]\n",
    "    print(result_df.head(3))\n",
    "    result_df.to_csv(f'output/predicted_reviews_{len(texts)}.csv', index=False)\n",
    "\n",
    "    print(f\"处理完成，新文件已保存为 output/predicted_reviews_{len(texts)}.csv\")\n",
    "    print(result_df.columns,len(result_df))\n",
    "def predict(model, tokenizer):\n",
    "    y_pred = []\n",
    "    for i in tqdm(range(len(df))):\n",
    "        prompt = df.iloc[i][\"prompt\"]\n",
    "        pipe = pipeline(task=\"text-generation\", \n",
    "                        model=model, \n",
    "                        tokenizer=tokenizer, \n",
    "                        max_new_tokens = 1, \n",
    "                        temperature = 0.0,\n",
    "                       )\n",
    "        result = pipe(prompt)\n",
    "        answer = result[0]['generated_text'].split(\"=\")[-1]\n",
    "        if \"positive\" in answer:\n",
    "            y_pred.append(\"positive\")\n",
    "        elif \"negative\" in answer:\n",
    "            y_pred.append(\"negative\")\n",
    "        elif \"neutral\" in answer:\n",
    "            y_pred.append(\"neutral\")\n",
    "        else:\n",
    "            y_pred.append(\"none\")\n",
    "        if (i!=0 and i%500==0) or (i==(len(df)-1)):\n",
    "            print(result[0]['generated_text'],y_pred[-1],df.iloc[i])\n",
    "        if (i!=0 and i%5000==0) or (i==(len(df)-1)):\n",
    "            save_df(y_pred,df)\n",
    "    return y_pred"
   ]
  },
  {
   "cell_type": "code",
   "execution_count": 11,
   "metadata": {},
   "outputs": [
    {
     "name": "stderr",
     "output_type": "stream",
     "text": [
      "  1%|          | 503/41600 [00:32<42:21, 16.17it/s] "
     ]
    },
    {
     "name": "stdout",
     "output_type": "stream",
     "text": [
      "Analyze the sentiment of the news headline enclosed in square brackets, \n",
      "                determine if it is positive, neutral, or negative, and return the answer as \n",
      "                the corresponding sentiment label \"positive\" or \"neutral\" or \"negative\".\n",
      "\n",
      "                [Product with defects presents risk for being unreliable, I've already e-mailed and e-mailed and had no feedback.] = negative negative sentiment                                                           negative\n",
      "text                       Product with defects presents risk for being u...\n",
      "review_id                                   3395e28d6009c3c18dd879ae600d91bc\n",
      "order_id                                    1e7666fef7090957578fd3a4b58cf9ba\n",
      "review_score                                                               1\n",
      "review_comment_title                                                     NaN\n",
      "review_comment_message     Produto com defeito apresenta risco por não se...\n",
      "review_creation_date                                     2017-11-30 00:00:00\n",
      "review_answer_timestamp                                  2017-11-30 22:22:03\n",
      "prompt                     Analyze the sentiment of the news headline enc...\n",
      "Name: 500, dtype: object\n"
     ]
    },
    {
     "name": "stderr",
     "output_type": "stream",
     "text": [
      "  2%|▏         | 1003/41600 [01:02<41:06, 16.46it/s]"
     ]
    },
    {
     "name": "stdout",
     "output_type": "stream",
     "text": [
      "Analyze the sentiment of the news headline enclosed in square brackets, \n",
      "                determine if it is positive, neutral, or negative, and return the answer as \n",
      "                the corresponding sentiment label \"positive\" or \"neutral\" or \"negative\".\n",
      "\n",
      "                [It arrived in perfect condition and on time. Thank you very much for your time.] = positive positive sentiment                                                           positive\n",
      "text                       It arrived in perfect condition and on time. T...\n",
      "review_id                                   6f64dec3ab5e638053c1a1d6e2c7e204\n",
      "order_id                                    4f39a9f31c5a7d46ecfc92571700a6f9\n",
      "review_score                                                               5\n",
      "review_comment_title                                                     NaN\n",
      "review_comment_message     Chegou em perfeito estado e antes do prazo pre...\n",
      "review_creation_date                                     2017-07-21 00:00:00\n",
      "review_answer_timestamp                                  2017-07-22 14:19:26\n",
      "prompt                     Analyze the sentiment of the news headline enc...\n",
      "Name: 1000, dtype: object\n"
     ]
    },
    {
     "name": "stderr",
     "output_type": "stream",
     "text": [
      "  4%|▎         | 1503/41600 [01:33<41:24, 16.14it/s]"
     ]
    },
    {
     "name": "stdout",
     "output_type": "stream",
     "text": [
      "Analyze the sentiment of the news headline enclosed in square brackets, \n",
      "                determine if it is positive, neutral, or negative, and return the answer as \n",
      "                the corresponding sentiment label \"positive\" or \"neutral\" or \"negative\".\n",
      "\n",
      "                [It comes in really quickly, before the deadline.] = neutral neutral sentiment                                                           positive\n",
      "text                        It comes in really quickly, before the deadline.\n",
      "review_id                                   9b9f2f534826695f04e5b7985c4384cd\n",
      "order_id                                    209addb62d4e3c8c3e8b364d841b4d58\n",
      "review_score                                                               5\n",
      "review_comment_title                                                     NaN\n",
      "review_comment_message                  Entrega super rápida, antes do prazo\n",
      "review_creation_date                                     2018-04-12 00:00:00\n",
      "review_answer_timestamp                                  2018-04-12 16:35:19\n",
      "prompt                     Analyze the sentiment of the news headline enc...\n",
      "Name: 1500, dtype: object\n"
     ]
    },
    {
     "name": "stderr",
     "output_type": "stream",
     "text": [
      "  5%|▍         | 2003/41600 [02:04<40:30, 16.29it/s]"
     ]
    },
    {
     "name": "stdout",
     "output_type": "stream",
     "text": [
      "Analyze the sentiment of the news headline enclosed in square brackets, \n",
      "                determine if it is positive, neutral, or negative, and return the answer as \n",
      "                the corresponding sentiment label \"positive\" or \"neutral\" or \"negative\".\n",
      "\n",
      "                [I got just the steel wristband, the two-wristband kit didn't come, the email announced that only a box with a wristband came.] = neutral neutral sentiment                                                           negative\n",
      "text                       I got just the steel wristband, the two-wristb...\n",
      "review_id                                   b87c288e1cf59201fee2aa895f153784\n",
      "order_id                                    427b93d447dc29957700648673d6256f\n",
      "review_score                                                               1\n",
      "review_comment_title                                                     NaN\n",
      "review_comment_message     Foi recebido apenas a pulseira de aço !\\r\\nO k...\n",
      "review_creation_date                                     2017-09-09 00:00:00\n",
      "review_answer_timestamp                                  2017-09-10 19:54:17\n",
      "prompt                     Analyze the sentiment of the news headline enc...\n",
      "Name: 2000, dtype: object\n"
     ]
    },
    {
     "name": "stderr",
     "output_type": "stream",
     "text": [
      "  6%|▌         | 2503/41600 [02:34<39:51, 16.35it/s]"
     ]
    },
    {
     "name": "stdout",
     "output_type": "stream",
     "text": [
      "Analyze the sentiment of the news headline enclosed in square brackets, \n",
      "                determine if it is positive, neutral, or negative, and return the answer as \n",
      "                the corresponding sentiment label \"positive\" or \"neutral\" or \"negative\".\n",
      "\n",
      "                [SHOW!] = neutral neutral sentiment                                                           positive\n",
      "text                                                                   SHOW!\n",
      "review_id                                   8ac6a60165af01dfc25d27397956089d\n",
      "order_id                                    78b2a06f2611f8e465bdb69eed02218f\n",
      "review_score                                                               5\n",
      "review_comment_title                                                     NaN\n",
      "review_comment_message                                                 SHOW!\n",
      "review_creation_date                                     2018-08-08 00:00:00\n",
      "review_answer_timestamp                                  2018-08-09 00:32:24\n",
      "prompt                     Analyze the sentiment of the news headline enc...\n",
      "Name: 2500, dtype: object\n"
     ]
    },
    {
     "name": "stderr",
     "output_type": "stream",
     "text": [
      "  7%|▋         | 3003/41600 [03:05<39:37, 16.24it/s]"
     ]
    },
    {
     "name": "stdout",
     "output_type": "stream",
     "text": [
      "Analyze the sentiment of the news headline enclosed in square brackets, \n",
      "                determine if it is positive, neutral, or negative, and return the answer as \n",
      "                the corresponding sentiment label \"positive\" or \"neutral\" or \"negative\".\n",
      "\n",
      "                [It's a trusted store, established many years ago.] = neutral neutral sentiment                                                           positive\n",
      "text                       It's a trusted store, established many years ago.\n",
      "review_id                                   c286d504aca61ac81bd87ed4d00116e4\n",
      "order_id                                    a6832f84211588f24e426d167333044e\n",
      "review_score                                                               5\n",
      "review_comment_title                                                     NaN\n",
      "review_comment_message        É uma loja de confiança,compro há muitos anos.\n",
      "review_creation_date                                     2018-01-10 00:00:00\n",
      "review_answer_timestamp                                  2018-01-12 15:18:51\n",
      "prompt                     Analyze the sentiment of the news headline enc...\n",
      "Name: 3000, dtype: object\n"
     ]
    },
    {
     "name": "stderr",
     "output_type": "stream",
     "text": [
      "  8%|▊         | 3503/41600 [03:36<39:30, 16.07it/s]"
     ]
    },
    {
     "name": "stdout",
     "output_type": "stream",
     "text": [
      "Analyze the sentiment of the news headline enclosed in square brackets, \n",
      "                determine if it is positive, neutral, or negative, and return the answer as \n",
      "                the corresponding sentiment label \"positive\" or \"neutral\" or \"negative\".\n",
      "\n",
      "                [I got the product in great packaging conditions, within the combined deadline and specifications that the company offered.] = positive positive sentiment                                                           positive\n",
      "text                       I got the product in great packaging condition...\n",
      "review_id                                   f217fbfd8a471ac6b638ba3f8c5ed260\n",
      "order_id                                    ee38c54d242516c9f651c8097815f90b\n",
      "review_score                                                               5\n",
      "review_comment_title                                                     NaN\n",
      "review_comment_message     Recebi o produto em ótimas condições de embala...\n",
      "review_creation_date                                     2017-11-02 00:00:00\n",
      "review_answer_timestamp                                  2017-11-03 10:20:40\n",
      "prompt                     Analyze the sentiment of the news headline enc...\n",
      "Name: 3500, dtype: object\n"
     ]
    },
    {
     "name": "stderr",
     "output_type": "stream",
     "text": [
      " 10%|▉         | 4003/41600 [04:07<38:00, 16.48it/s]"
     ]
    },
    {
     "name": "stdout",
     "output_type": "stream",
     "text": [
      "Analyze the sentiment of the news headline enclosed in square brackets, \n",
      "                determine if it is positive, neutral, or negative, and return the answer as \n",
      "                the corresponding sentiment label \"positive\" or \"neutral\" or \"negative\".\n",
      "\n",
      "                [All right. You're all delivered correctly and on time.] = neutral neutral sentiment                                                           positive\n",
      "text                       All right. You're all delivered correctly and ...\n",
      "review_id                                   e17ed3d7f8ca9297b2c84879e6fb103b\n",
      "order_id                                    48a9ea3e1c382a1103caddec631502f7\n",
      "review_score                                                               5\n",
      "review_comment_title                                            Tudo correto\n",
      "review_comment_message     Tudo entregue de maneira correta e antes do pr...\n",
      "review_creation_date                                     2018-08-07 00:00:00\n",
      "review_answer_timestamp                                  2018-08-07 17:22:21\n",
      "prompt                     Analyze the sentiment of the news headline enc...\n",
      "Name: 4000, dtype: object\n"
     ]
    },
    {
     "name": "stderr",
     "output_type": "stream",
     "text": [
      " 11%|█         | 4503/41600 [04:37<38:05, 16.23it/s]"
     ]
    },
    {
     "name": "stdout",
     "output_type": "stream",
     "text": [
      "Analyze the sentiment of the news headline enclosed in square brackets, \n",
      "                determine if it is positive, neutral, or negative, and return the answer as \n",
      "                the corresponding sentiment label \"positive\" or \"neutral\" or \"negative\".\n",
      "\n",
      "                [I've been very good at buying from you guys.] = neutral neutral sentiment                                                           positive\n",
      "text                            I've been very good at buying from you guys.\n",
      "review_id                                   e97f13021ee28ecb481136493c6fe603\n",
      "order_id                                    6e3d694de21b9149410f92a43ece1186\n",
      "review_score                                                               5\n",
      "review_comment_title                                                     NaN\n",
      "review_comment_message                       Foi muito bom comprar com vocês\n",
      "review_creation_date                                     2017-10-27 00:00:00\n",
      "review_answer_timestamp                                  2017-10-29 14:56:42\n",
      "prompt                     Analyze the sentiment of the news headline enc...\n",
      "Name: 4500, dtype: object\n"
     ]
    },
    {
     "name": "stderr",
     "output_type": "stream",
     "text": [
      " 12%|█▏        | 5001/41600 [05:08<53:07, 11.48it/s]"
     ]
    },
    {
     "name": "stdout",
     "output_type": "stream",
     "text": [
      "Analyze the sentiment of the news headline enclosed in square brackets, \n",
      "                determine if it is positive, neutral, or negative, and return the answer as \n",
      "                the corresponding sentiment label \"positive\" or \"neutral\" or \"negative\".\n",
      "\n",
      "                [Recommend this store for purchase product came in perfect condition and was delivered quickly.] = positive positive sentiment                                                           positive\n",
      "text                       Recommend this store for purchase product came...\n",
      "review_id                                   6d79ec324147cd10a3b30d7a303b1d65\n",
      "order_id                                    a806770e48c22cc0c2607982f3e87e30\n",
      "review_score                                                               5\n",
      "review_comment_title                                                     NaN\n",
      "review_comment_message     recomendo essa loja para compras produto chego...\n",
      "review_creation_date                                     2017-09-15 00:00:00\n",
      "review_answer_timestamp                                  2017-09-16 17:16:53\n",
      "prompt                     Analyze the sentiment of the news headline enc...\n",
      "Name: 5000, dtype: object\n",
      "\u001b[H\u001b[2J5001\n",
      "  sentiment predict_sentiment  \\\n",
      "0  positive           neutral   \n",
      "1  positive           neutral   \n",
      "2  positive           neutral   \n",
      "\n",
      "                                                text  \\\n",
      "0                  I got it well before my due date.   \n",
      "1  Thank you lannister stores I loved to buy thro...   \n",
      "2  I recommend it. I think it's effective. On the...   \n",
      "\n",
      "                          review_id                          order_id  \\\n",
      "0  e64fb393e7b32834bb789ff8bb30750e  658677c97b385a9be170737859d3511b   \n",
      "1  f7c4243c7fe1938f181bec41a392bdeb  8e6bfb81e283fa7e4f11123a3fb894f1   \n",
      "2  8670d52e15e00043ae7de4c01cc2fe06  b9bf720beb4ab3728760088589c62129   \n",
      "\n",
      "   review_score review_comment_title  \\\n",
      "0             5                  NaN   \n",
      "1             5                  NaN   \n",
      "2             4            recomendo   \n",
      "\n",
      "                              review_comment_message review_creation_date  \\\n",
      "0              Recebi bem antes do prazo estipulado.  2017-04-21 00:00:00   \n",
      "1  Parabéns lojas lannister adorei comprar pela I...  2018-03-01 00:00:00   \n",
      "2  aparelho eficiente. no site a marca do aparelh...  2018-05-22 00:00:00   \n",
      "\n",
      "  review_answer_timestamp  \n",
      "0     2017-04-21 22:02:06  \n",
      "1     2018-03-02 10:26:53  \n",
      "2     2018-05-23 16:45:47  \n",
      "处理完成，新文件已保存为 output/predicted_reviews_5001.csv\n",
      "Index(['sentiment', 'predict_sentiment', 'text', 'review_id', 'order_id',\n",
      "       'review_score', 'review_comment_title', 'review_comment_message',\n",
      "       'review_creation_date', 'review_answer_timestamp'],\n",
      "      dtype='object') 5001\n"
     ]
    },
    {
     "name": "stderr",
     "output_type": "stream",
     "text": [
      " 13%|█▎        | 5503/41600 [05:39<36:54, 16.30it/s]"
     ]
    },
    {
     "name": "stdout",
     "output_type": "stream",
     "text": [
      "Analyze the sentiment of the news headline enclosed in square brackets, \n",
      "                determine if it is positive, neutral, or negative, and return the answer as \n",
      "                the corresponding sentiment label \"positive\" or \"neutral\" or \"negative\".\n",
      "\n",
      "                [Great service.] = neutral neutral sentiment                                                           negative\n",
      "text                                                          Great service.\n",
      "review_id                                   462305393581bbb206458b4591950ce9\n",
      "order_id                                    d6f9e75b25f4d86db87bf9c7e6d14a4b\n",
      "review_score                                                               1\n",
      "review_comment_title                                                     NaN\n",
      "review_comment_message                                      Péssimo serviço \n",
      "review_creation_date                                     2017-07-27 00:00:00\n",
      "review_answer_timestamp                                  2017-07-27 13:40:45\n",
      "prompt                     Analyze the sentiment of the news headline enc...\n",
      "Name: 5500, dtype: object\n"
     ]
    },
    {
     "name": "stderr",
     "output_type": "stream",
     "text": [
      " 14%|█▍        | 6003/41600 [06:09<36:22, 16.31it/s]"
     ]
    },
    {
     "name": "stdout",
     "output_type": "stream",
     "text": [
      "Analyze the sentiment of the news headline enclosed in square brackets, \n",
      "                determine if it is positive, neutral, or negative, and return the answer as \n",
      "                the corresponding sentiment label \"positive\" or \"neutral\" or \"negative\".\n",
      "\n",
      "                [I'm returning the product. The ad says it's six inches long, it's delivered — it doesn't cover half the trunk of the car.] = negative negative sentiment                                                           negative\n",
      "text                       I'm returning the product. The ad says it's si...\n",
      "review_id                                   fa343743df5436a7f4eaa22b4a20be4f\n",
      "order_id                                    f58ebdd1a4d270925b85a62286d42e85\n",
      "review_score                                                               1\n",
      "review_comment_title                                                     NaN\n",
      "review_comment_message     Estou devolvendo o produto, no anuncio diz que...\n",
      "review_creation_date                                     2018-01-30 00:00:00\n",
      "review_answer_timestamp                                  2018-02-01 11:08:21\n",
      "prompt                     Analyze the sentiment of the news headline enc...\n",
      "Name: 6000, dtype: object\n"
     ]
    },
    {
     "name": "stderr",
     "output_type": "stream",
     "text": [
      " 16%|█▌        | 6503/41600 [06:40<36:00, 16.25it/s]"
     ]
    },
    {
     "name": "stdout",
     "output_type": "stream",
     "text": [
      "Analyze the sentiment of the news headline enclosed in square brackets, \n",
      "                determine if it is positive, neutral, or negative, and return the answer as \n",
      "                the corresponding sentiment label \"positive\" or \"neutral\" or \"negative\".\n",
      "\n",
      "                [Good product. I highly recommend it to all women.] = positive positive sentiment                                                           positive\n",
      "text                       Good product. I highly recommend it to all women.\n",
      "review_id                                   e2c2113d45d6f7c25d9f9a4795fd9477\n",
      "order_id                                    a3618e87bbadb70219347557df7d551f\n",
      "review_score                                                               4\n",
      "review_comment_title                                                     NaN\n",
      "review_comment_message     Produto bom. \\r\\nSuper recomendo a todas as mu...\n",
      "review_creation_date                                     2018-02-06 00:00:00\n",
      "review_answer_timestamp                                  2018-02-08 19:58:38\n",
      "prompt                     Analyze the sentiment of the news headline enc...\n",
      "Name: 6500, dtype: object\n"
     ]
    },
    {
     "name": "stderr",
     "output_type": "stream",
     "text": [
      " 17%|█▋        | 7003/41600 [07:11<35:31, 16.23it/s]"
     ]
    },
    {
     "name": "stdout",
     "output_type": "stream",
     "text": [
      "Analyze the sentiment of the news headline enclosed in square brackets, \n",
      "                determine if it is positive, neutral, or negative, and return the answer as \n",
      "                the corresponding sentiment label \"positive\" or \"neutral\" or \"negative\".\n",
      "\n",
      "                [Ten, they were very effective.] = neutral neutral sentiment                                                           positive\n",
      "text                                          Ten, they were very effective.\n",
      "review_id                                   8a8e9da4135e52d45dda6a4ab3fe38be\n",
      "order_id                                    d949d4dcea6ae27ff040b9f9f40fac7a\n",
      "review_score                                                               5\n",
      "review_comment_title                                                     Dez\n",
      "review_comment_message                    Ótimo, foram muito prestativos !!.\n",
      "review_creation_date                                     2018-07-07 00:00:00\n",
      "review_answer_timestamp                                  2018-07-08 15:11:37\n",
      "prompt                     Analyze the sentiment of the news headline enc...\n",
      "Name: 7000, dtype: object\n"
     ]
    },
    {
     "name": "stderr",
     "output_type": "stream",
     "text": [
      " 18%|█▊        | 7503/41600 [07:42<35:08, 16.17it/s]"
     ]
    },
    {
     "name": "stdout",
     "output_type": "stream",
     "text": [
      "Analyze the sentiment of the news headline enclosed in square brackets, \n",
      "                determine if it is positive, neutral, or negative, and return the answer as \n",
      "                the corresponding sentiment label \"positive\" or \"neutral\" or \"negative\".\n",
      "\n",
      "                [Authenticity: The vendor could have specified that this watch was a replica, and I didn't like the packaging either.] = neutral neutral sentiment                                                            neutral\n",
      "text                       Authenticity: The vendor could have specified ...\n",
      "review_id                                   acccefaec3326c58ad708c91a27f481d\n",
      "order_id                                    78420988bdc7bf4dac19e4fe4ccdbd6a\n",
      "review_score                                                               3\n",
      "review_comment_title                                          Autenticidade \n",
      "review_comment_message     O vendedor poderia especificar que o relógio s...\n",
      "review_creation_date                                     2018-08-05 00:00:00\n",
      "review_answer_timestamp                                  2018-08-05 14:48:10\n",
      "prompt                     Analyze the sentiment of the news headline enc...\n",
      "Name: 7500, dtype: object\n"
     ]
    },
    {
     "name": "stderr",
     "output_type": "stream",
     "text": [
      " 19%|█▉        | 8003/41600 [08:13<34:27, 16.25it/s]"
     ]
    },
    {
     "name": "stdout",
     "output_type": "stream",
     "text": [
      "Analyze the sentiment of the news headline enclosed in square brackets, \n",
      "                determine if it is positive, neutral, or negative, and return the answer as \n",
      "                the corresponding sentiment label \"positive\" or \"neutral\" or \"negative\".\n",
      "\n",
      "                [Although the product is fragile, I highly recommend you do a lot of mounting and unmoving.] = neutral neutral sentiment                                                           positive\n",
      "text                       Although the product is fragile, I highly reco...\n",
      "review_id                                   a0f85587287c7078546eda8bb3e1b257\n",
      "order_id                                    a825307ee6cde104910defdb22b896bf\n",
      "review_score                                                               4\n",
      "review_comment_title                                                     NaN\n",
      "review_comment_message     Bom produto, porem frágil, recomendo ter basta...\n",
      "review_creation_date                                     2018-01-27 00:00:00\n",
      "review_answer_timestamp                                  2018-01-29 10:45:50\n",
      "prompt                     Analyze the sentiment of the news headline enc...\n",
      "Name: 8000, dtype: object\n"
     ]
    },
    {
     "name": "stderr",
     "output_type": "stream",
     "text": [
      " 20%|██        | 8503/41600 [08:44<34:01, 16.21it/s]"
     ]
    },
    {
     "name": "stdout",
     "output_type": "stream",
     "text": [
      "Analyze the sentiment of the news headline enclosed in square brackets, \n",
      "                determine if it is positive, neutral, or negative, and return the answer as \n",
      "                the corresponding sentiment label \"positive\" or \"neutral\" or \"negative\".\n",
      "\n",
      "                [Boom.] = neutral neutral sentiment                                                           positive\n",
      "text                                                                   Boom.\n",
      "review_id                                   91023588624b3386711a8b4772867141\n",
      "order_id                                    353058e48de63e5ebcd90bacf5329d2b\n",
      "review_score                                                               4\n",
      "review_comment_title                                                     NaN\n",
      "review_comment_message                                                   Bom\n",
      "review_creation_date                                     2018-06-09 00:00:00\n",
      "review_answer_timestamp                                  2018-06-10 03:34:23\n",
      "prompt                     Analyze the sentiment of the news headline enc...\n",
      "Name: 8500, dtype: object\n"
     ]
    },
    {
     "name": "stderr",
     "output_type": "stream",
     "text": [
      " 22%|██▏       | 9003/41600 [09:14<33:24, 16.26it/s]"
     ]
    },
    {
     "name": "stdout",
     "output_type": "stream",
     "text": [
      "Analyze the sentiment of the news headline enclosed in square brackets, \n",
      "                determine if it is positive, neutral, or negative, and return the answer as \n",
      "                the corresponding sentiment label \"positive\" or \"neutral\" or \"negative\".\n",
      "\n",
      "                [It was normal. The product was delivered on time, and the quality of the product was as expected.] = neutral neutral sentiment                                                           positive\n",
      "text                       It was normal. The product was delivered on ti...\n",
      "review_id                                   3440a497230f1bd681279c3c8f4f2e5d\n",
      "order_id                                    b62ced5bbcbad01b30fd58926d727b21\n",
      "review_score                                                               5\n",
      "review_comment_title                                             Normalidade\n",
      "review_comment_message     Produto entregue dentro do prazo e a qualidade...\n",
      "review_creation_date                                     2018-05-25 00:00:00\n",
      "review_answer_timestamp                                  2018-05-26 13:24:43\n",
      "prompt                     Analyze the sentiment of the news headline enc...\n",
      "Name: 9000, dtype: object\n"
     ]
    },
    {
     "name": "stderr",
     "output_type": "stream",
     "text": [
      " 23%|██▎       | 9503/41600 [09:45<33:01, 16.20it/s]"
     ]
    },
    {
     "name": "stdout",
     "output_type": "stream",
     "text": [
      "Analyze the sentiment of the news headline enclosed in square brackets, \n",
      "                determine if it is positive, neutral, or negative, and return the answer as \n",
      "                the corresponding sentiment label \"positive\" or \"neutral\" or \"negative\".\n",
      "\n",
      "                [Pretty good. The deadline came as I expected.] = neutral neutral sentiment                                                           positive\n",
      "text                           Pretty good. The deadline came as I expected.\n",
      "review_id                                   6166744ca473f36a8d15183e369605e6\n",
      "order_id                                    d167d4b7b391f26fea23a114ac44706d\n",
      "review_score                                                               5\n",
      "review_comment_title                                                     NaN\n",
      "review_comment_message     Muito bom o prazo de entrega veio que eu esper...\n",
      "review_creation_date                                     2018-05-03 00:00:00\n",
      "review_answer_timestamp                                  2018-05-08 21:08:43\n",
      "prompt                     Analyze the sentiment of the news headline enc...\n",
      "Name: 9500, dtype: object\n"
     ]
    },
    {
     "name": "stderr",
     "output_type": "stream",
     "text": [
      " 24%|██▍       | 9999/41600 [10:16<32:30, 16.20it/s]"
     ]
    },
    {
     "name": "stdout",
     "output_type": "stream",
     "text": [
      "Analyze the sentiment of the news headline enclosed in square brackets, \n",
      "                determine if it is positive, neutral, or negative, and return the answer as \n",
      "                the corresponding sentiment label \"positive\" or \"neutral\" or \"negative\".\n",
      "\n",
      "                [I recommend it. I've had no negative experience.] = positive positive sentiment                                                           positive\n",
      "text                        I recommend it. I've had no negative experience.\n",
      "review_id                                   ff917b12bef2336777ef8034f44d927c\n",
      "order_id                                    ada812c7806382c3085a5f5024bc17ca\n",
      "review_score                                                               4\n",
      "review_comment_title                                               recomendo\n",
      "review_comment_message         Foi uma experiência sem nenhum fato negativo.\n",
      "review_creation_date                                     2018-07-28 00:00:00\n",
      "review_answer_timestamp                                  2018-07-30 19:46:40\n",
      "prompt                     Analyze the sentiment of the news headline enc...\n",
      "Name: 10000, dtype: object\n",
      "\u001b[H\u001b[2J10001\n",
      "  sentiment predict_sentiment  \\\n",
      "0  positive           neutral   \n",
      "1  positive           neutral   \n",
      "2  positive           neutral   \n",
      "\n",
      "                                                text  \\\n",
      "0                  I got it well before my due date.   \n",
      "1  Thank you lannister stores I loved to buy thro...   \n",
      "2  I recommend it. I think it's effective. On the...   \n",
      "\n",
      "                          review_id                          order_id  \\\n",
      "0  e64fb393e7b32834bb789ff8bb30750e  658677c97b385a9be170737859d3511b   \n",
      "1  f7c4243c7fe1938f181bec41a392bdeb  8e6bfb81e283fa7e4f11123a3fb894f1   \n",
      "2  8670d52e15e00043ae7de4c01cc2fe06  b9bf720beb4ab3728760088589c62129   \n",
      "\n",
      "   review_score review_comment_title  \\\n",
      "0             5                  NaN   \n",
      "1             5                  NaN   \n",
      "2             4            recomendo   \n",
      "\n",
      "                              review_comment_message review_creation_date  \\\n",
      "0              Recebi bem antes do prazo estipulado.  2017-04-21 00:00:00   \n",
      "1  Parabéns lojas lannister adorei comprar pela I...  2018-03-01 00:00:00   \n",
      "2  aparelho eficiente. no site a marca do aparelh...  2018-05-22 00:00:00   \n",
      "\n",
      "  review_answer_timestamp  \n",
      "0     2017-04-21 22:02:06  \n",
      "1     2018-03-02 10:26:53  \n",
      "2     2018-05-23 16:45:47  \n"
     ]
    },
    {
     "name": "stderr",
     "output_type": "stream",
     "text": [
      " 24%|██▍       | 10003/41600 [10:16<48:22, 10.89it/s]"
     ]
    },
    {
     "name": "stdout",
     "output_type": "stream",
     "text": [
      "处理完成，新文件已保存为 output/predicted_reviews_10001.csv\n",
      "Index(['sentiment', 'predict_sentiment', 'text', 'review_id', 'order_id',\n",
      "       'review_score', 'review_comment_title', 'review_comment_message',\n",
      "       'review_creation_date', 'review_answer_timestamp'],\n",
      "      dtype='object') 10001\n"
     ]
    },
    {
     "name": "stderr",
     "output_type": "stream",
     "text": [
      " 25%|██▌       | 10503/41600 [10:47<32:47, 15.81it/s]"
     ]
    },
    {
     "name": "stdout",
     "output_type": "stream",
     "text": [
      "Analyze the sentiment of the news headline enclosed in square brackets, \n",
      "                determine if it is positive, neutral, or negative, and return the answer as \n",
      "                the corresponding sentiment label \"positive\" or \"neutral\" or \"negative\".\n",
      "\n",
      "                [I didn't get the transmission kit yet...] = neutral neutral sentiment                                                           negative\n",
      "text                                I didn't get the transmission kit yet...\n",
      "review_id                                   bf1fa918e4c653c4bcfa3e0da9dec767\n",
      "order_id                                    21a5a6a3ba44669b781dde94b19a361a\n",
      "review_score                                                               1\n",
      "review_comment_title                                                     NaN\n",
      "review_comment_message                 Não recebi o kit transmissão ainda...\n",
      "review_creation_date                                     2018-01-20 00:00:00\n",
      "review_answer_timestamp                                  2018-01-23 15:03:59\n",
      "prompt                     Analyze the sentiment of the news headline enc...\n",
      "Name: 10500, dtype: object\n"
     ]
    },
    {
     "name": "stderr",
     "output_type": "stream",
     "text": [
      " 26%|██▋       | 11003/41600 [11:18<31:22, 16.25it/s]"
     ]
    },
    {
     "name": "stdout",
     "output_type": "stream",
     "text": [
      "Analyze the sentiment of the news headline enclosed in square brackets, \n",
      "                determine if it is positive, neutral, or negative, and return the answer as \n",
      "                the corresponding sentiment label \"positive\" or \"neutral\" or \"negative\".\n",
      "\n",
      "                [Great store. Whenever I can, I shop here.] = neutral neutral sentiment                                                           positive\n",
      "text                               Great store. Whenever I can, I shop here.\n",
      "review_id                                   aaadbb5315f43742aa7ac38b573b3794\n",
      "order_id                                    f9899b702b4c536b09ae0efdb5023a71\n",
      "review_score                                                               4\n",
      "review_comment_title                                                     NaN\n",
      "review_comment_message     Excelente loja. Sempre que posso, faço minhas ...\n",
      "review_creation_date                                     2017-12-02 00:00:00\n",
      "review_answer_timestamp                                  2017-12-04 11:44:27\n",
      "prompt                     Analyze the sentiment of the news headline enc...\n",
      "Name: 11000, dtype: object\n"
     ]
    },
    {
     "name": "stderr",
     "output_type": "stream",
     "text": [
      " 28%|██▊       | 11503/41600 [11:48<31:39, 15.85it/s]"
     ]
    },
    {
     "name": "stdout",
     "output_type": "stream",
     "text": [
      "Analyze the sentiment of the news headline enclosed in square brackets, \n",
      "                determine if it is positive, neutral, or negative, and return the answer as \n",
      "                the corresponding sentiment label \"positive\" or \"neutral\" or \"negative\".\n",
      "\n",
      "                [I recommend it. For those of you who are not high-end, I recommend it. The product came in small batches, but no birds. All right.] = neutral neutral sentiment                                                           positive\n",
      "text                       I recommend it. For those of you who are not h...\n",
      "review_id                                   ff08e2f4f27860a725f9cc8146a98a4c\n",
      "order_id                                    ff29c7cdeea12d00d7b40d4879cce688\n",
      "review_score                                                               4\n",
      "review_comment_title                                               Recomendo\n",
      "review_comment_message     Para quem não é extremamente exigente, recomen...\n",
      "review_creation_date                                     2018-05-09 00:00:00\n",
      "review_answer_timestamp                                  2018-05-12 03:50:50\n",
      "prompt                     Analyze the sentiment of the news headline enc...\n",
      "Name: 11500, dtype: object\n"
     ]
    },
    {
     "name": "stderr",
     "output_type": "stream",
     "text": [
      " 29%|██▉       | 12003/41600 [12:19<30:07, 16.37it/s]"
     ]
    },
    {
     "name": "stdout",
     "output_type": "stream",
     "text": [
      "Analyze the sentiment of the news headline enclosed in square brackets, \n",
      "                determine if it is positive, neutral, or negative, and return the answer as \n",
      "                the corresponding sentiment label \"positive\" or \"neutral\" or \"negative\".\n",
      "\n",
      "                [The product was timely and well packaged.] = neutral neutral sentiment                                                           positive\n",
      "text                               The product was timely and well packaged.\n",
      "review_id                                   d446179fd261b0d1913dfeaf2dcf4ad3\n",
      "order_id                                    fc4751be4b35a7060fa53d194f767583\n",
      "review_score                                                               5\n",
      "review_comment_title                                                     NaN\n",
      "review_comment_message         o produto veio antes do tempo e bem embalado.\n",
      "review_creation_date                                     2018-02-22 00:00:00\n",
      "review_answer_timestamp                                  2018-02-25 20:15:51\n",
      "prompt                     Analyze the sentiment of the news headline enc...\n",
      "Name: 12000, dtype: object\n"
     ]
    },
    {
     "name": "stderr",
     "output_type": "stream",
     "text": [
      " 30%|███       | 12503/41600 [12:50<29:44, 16.31it/s]"
     ]
    },
    {
     "name": "stdout",
     "output_type": "stream",
     "text": [
      "Analyze the sentiment of the news headline enclosed in square brackets, \n",
      "                determine if it is positive, neutral, or negative, and return the answer as \n",
      "                the corresponding sentiment label \"positive\" or \"neutral\" or \"negative\".\n",
      "\n",
      "                [Recommend. Good product, timely delivery.] = positive positive sentiment                                                           positive\n",
      "text                               Recommend. Good product, timely delivery.\n",
      "review_id                                   69dc29f9f23f550bf25d3752bdcf96ef\n",
      "order_id                                    3a63202e1f2029f6ee42f498e87fa599\n",
      "review_score                                                               5\n",
      "review_comment_title                                               Recomendo\n",
      "review_comment_message                  Produto correto e entregue no prazo.\n",
      "review_creation_date                                     2018-06-13 00:00:00\n",
      "review_answer_timestamp                                  2018-06-19 12:49:39\n",
      "prompt                     Analyze the sentiment of the news headline enc...\n",
      "Name: 12500, dtype: object\n"
     ]
    },
    {
     "name": "stderr",
     "output_type": "stream",
     "text": [
      " 31%|███▏      | 13003/41600 [13:20<29:06, 16.37it/s]"
     ]
    },
    {
     "name": "stdout",
     "output_type": "stream",
     "text": [
      "Analyze the sentiment of the news headline enclosed in square brackets, \n",
      "                determine if it is positive, neutral, or negative, and return the answer as \n",
      "                the corresponding sentiment label \"positive\" or \"neutral\" or \"negative\".\n",
      "\n",
      "                [Great product.] = neutral neutral sentiment                                                           positive\n",
      "text                                                          Great product.\n",
      "review_id                                   e3f16f8658017e5a36af381aad2bb208\n",
      "order_id                                    3351bf124a5c98aeee6b64f3ba214459\n",
      "review_score                                                               5\n",
      "review_comment_title                                                     NaN\n",
      "review_comment_message                                        Ótimo produto \n",
      "review_creation_date                                     2017-08-18 00:00:00\n",
      "review_answer_timestamp                                  2017-08-19 00:57:21\n",
      "prompt                     Analyze the sentiment of the news headline enc...\n",
      "Name: 13000, dtype: object\n"
     ]
    },
    {
     "name": "stderr",
     "output_type": "stream",
     "text": [
      " 32%|███▏      | 13503/41600 [13:51<28:32, 16.41it/s]"
     ]
    },
    {
     "name": "stdout",
     "output_type": "stream",
     "text": [
      "Analyze the sentiment of the news headline enclosed in square brackets, \n",
      "                determine if it is positive, neutral, or negative, and return the answer as \n",
      "                the corresponding sentiment label \"positive\" or \"neutral\" or \"negative\".\n",
      "\n",
      "                [I bought a nine-piece game and got only five of them, and I'm missing the bed net game, and since both of the fairies have launched it and lit it very eloquently, I'm looking forward to the return of the waiter to solve my problem.] = neutral neutral sentiment                                                            neutral\n",
      "text                       I bought a nine-piece game and got only five o...\n",
      "review_id                                   0f135a39b2ac2730520818b8766a642e\n",
      "order_id                                    1ff23d1405f944c169b55b9fd3cffe88\n",
      "review_score                                                               3\n",
      "review_comment_title                                                     NaN\n",
      "review_comment_message     Comprei um jogo de 9 peças e só recebi 5 peças...\n",
      "review_creation_date                                     2017-04-28 00:00:00\n",
      "review_answer_timestamp                                  2017-04-29 17:04:13\n",
      "prompt                     Analyze the sentiment of the news headline enc...\n",
      "Name: 13500, dtype: object\n"
     ]
    },
    {
     "name": "stderr",
     "output_type": "stream",
     "text": [
      " 34%|███▎      | 14003/41600 [14:21<27:46, 16.56it/s]"
     ]
    },
    {
     "name": "stdout",
     "output_type": "stream",
     "text": [
      "Analyze the sentiment of the news headline enclosed in square brackets, \n",
      "                determine if it is positive, neutral, or negative, and return the answer as \n",
      "                the corresponding sentiment label \"positive\" or \"neutral\" or \"negative\".\n",
      "\n",
      "                [Excellent. I was satisfied with the product as well as the service and delivery all right.] = positive positive sentiment                                                           positive\n",
      "text                       Excellent. I was satisfied with the product as...\n",
      "review_id                                   9e32f60cfa962e56096d93347b81fe30\n",
      "order_id                                    08869d221628341d81a9dd18a07f625a\n",
      "review_score                                                               5\n",
      "review_comment_title                                               Excelente\n",
      "review_comment_message     Estou satisfeito com o produto bem como o aten...\n",
      "review_creation_date                                     2018-05-19 00:00:00\n",
      "review_answer_timestamp                                  2018-05-21 21:16:18\n",
      "prompt                     Analyze the sentiment of the news headline enc...\n",
      "Name: 14000, dtype: object\n"
     ]
    },
    {
     "name": "stderr",
     "output_type": "stream",
     "text": [
      " 35%|███▍      | 14503/41600 [14:51<27:27, 16.45it/s]"
     ]
    },
    {
     "name": "stdout",
     "output_type": "stream",
     "text": [
      "Analyze the sentiment of the news headline enclosed in square brackets, \n",
      "                determine if it is positive, neutral, or negative, and return the answer as \n",
      "                the corresponding sentiment label \"positive\" or \"neutral\" or \"negative\".\n",
      "\n",
      "                [I recommend it. Excellent purchase and excellent product.] = positive positive sentiment                                                           positive\n",
      "text                       I recommend it. Excellent purchase and excelle...\n",
      "review_id                                   11d9a387c371b595db81b81128c452e5\n",
      "order_id                                    374d4811c6f3657ec62ffec582801ccd\n",
      "review_score                                                               5\n",
      "review_comment_title                                               Recomendo\n",
      "review_comment_message                  Excelente compra e excelente produto\n",
      "review_creation_date                                     2018-08-15 00:00:00\n",
      "review_answer_timestamp                                  2018-08-15 20:34:18\n",
      "prompt                     Analyze the sentiment of the news headline enc...\n",
      "Name: 14500, dtype: object\n"
     ]
    },
    {
     "name": "stderr",
     "output_type": "stream",
     "text": [
      " 36%|███▌      | 14999/41600 [15:21<26:28, 16.75it/s]"
     ]
    },
    {
     "name": "stdout",
     "output_type": "stream",
     "text": [
      "Analyze the sentiment of the news headline enclosed in square brackets, \n",
      "                determine if it is positive, neutral, or negative, and return the answer as \n",
      "                the corresponding sentiment label \"positive\" or \"neutral\" or \"negative\".\n",
      "\n",
      "                [Good product, good shop, good service, good delivery.] = positive positive sentiment                                                           positive\n",
      "text                       Good product, good shop, good service, good de...\n",
      "review_id                                   32a5337a9938cc4698bf7fe166e24cc7\n",
      "order_id                                    82cefc0ed05913e6d19b9d6283dbf9cf\n",
      "review_score                                                               4\n",
      "review_comment_title                                                     NaN\n",
      "review_comment_message     Produto bom,Boa loja pra comprar,bom atendimen...\n",
      "review_creation_date                                     2018-04-18 00:00:00\n",
      "review_answer_timestamp                                  2018-04-19 00:08:34\n",
      "prompt                     Analyze the sentiment of the news headline enc...\n",
      "Name: 15000, dtype: object\n",
      "\u001b[H\u001b[2J15001\n",
      "  sentiment predict_sentiment  \\\n",
      "0  positive           neutral   \n",
      "1  positive           neutral   \n",
      "2  positive           neutral   \n",
      "\n",
      "                                                text  \\\n",
      "0                  I got it well before my due date.   \n",
      "1  Thank you lannister stores I loved to buy thro...   \n",
      "2  I recommend it. I think it's effective. On the...   \n",
      "\n",
      "                          review_id                          order_id  \\\n",
      "0  e64fb393e7b32834bb789ff8bb30750e  658677c97b385a9be170737859d3511b   \n",
      "1  f7c4243c7fe1938f181bec41a392bdeb  8e6bfb81e283fa7e4f11123a3fb894f1   \n",
      "2  8670d52e15e00043ae7de4c01cc2fe06  b9bf720beb4ab3728760088589c62129   \n",
      "\n",
      "   review_score review_comment_title  \\\n",
      "0             5                  NaN   \n",
      "1             5                  NaN   \n",
      "2             4            recomendo   \n",
      "\n",
      "                              review_comment_message review_creation_date  \\\n",
      "0              Recebi bem antes do prazo estipulado.  2017-04-21 00:00:00   \n",
      "1  Parabéns lojas lannister adorei comprar pela I...  2018-03-01 00:00:00   \n",
      "2  aparelho eficiente. no site a marca do aparelh...  2018-05-22 00:00:00   \n",
      "\n",
      "  review_answer_timestamp  \n",
      "0     2017-04-21 22:02:06  \n",
      "1     2018-03-02 10:26:53  \n",
      "2     2018-05-23 16:45:47  \n"
     ]
    },
    {
     "name": "stderr",
     "output_type": "stream",
     "text": [
      " 36%|███▌      | 15003/41600 [15:22<44:38,  9.93it/s]"
     ]
    },
    {
     "name": "stdout",
     "output_type": "stream",
     "text": [
      "处理完成，新文件已保存为 output/predicted_reviews_15001.csv\n",
      "Index(['sentiment', 'predict_sentiment', 'text', 'review_id', 'order_id',\n",
      "       'review_score', 'review_comment_title', 'review_comment_message',\n",
      "       'review_creation_date', 'review_answer_timestamp'],\n",
      "      dtype='object') 15001\n"
     ]
    },
    {
     "name": "stderr",
     "output_type": "stream",
     "text": [
      " 37%|███▋      | 15503/41600 [15:52<26:42, 16.29it/s]"
     ]
    },
    {
     "name": "stdout",
     "output_type": "stream",
     "text": [
      "Analyze the sentiment of the news headline enclosed in square brackets, \n",
      "                determine if it is positive, neutral, or negative, and return the answer as \n",
      "                the corresponding sentiment label \"positive\" or \"neutral\" or \"negative\".\n",
      "\n",
      "                [Great. I recommend it.] = positive positive sentiment                                                           positive\n",
      "text                                                  Great. I recommend it.\n",
      "review_id                                   f066c257f2f34e627fc2ae3a748482aa\n",
      "order_id                                    d581955a73c95a699d134ef77bf6b768\n",
      "review_score                                                               5\n",
      "review_comment_title                                                     NaN\n",
      "review_comment_message                                  Excelente! Recomendo\n",
      "review_creation_date                                     2017-06-11 00:00:00\n",
      "review_answer_timestamp                                  2017-06-11 17:27:27\n",
      "prompt                     Analyze the sentiment of the news headline enc...\n",
      "Name: 15500, dtype: object\n"
     ]
    },
    {
     "name": "stderr",
     "output_type": "stream",
     "text": [
      " 38%|███▊      | 16003/41600 [16:23<26:09, 16.31it/s]"
     ]
    },
    {
     "name": "stdout",
     "output_type": "stream",
     "text": [
      "Analyze the sentiment of the news headline enclosed in square brackets, \n",
      "                determine if it is positive, neutral, or negative, and return the answer as \n",
      "                the corresponding sentiment label \"positive\" or \"neutral\" or \"negative\".\n",
      "\n",
      "                [I got it, but I'm buying the wrong product, so I'd like to see if I can change it. Thank you.] = neutral neutral sentiment                                                           positive\n",
      "text                       I got it, but I'm buying the wrong product, so...\n",
      "review_id                                   9c01d29282d21ad5ab4385a71c53ec85\n",
      "order_id                                    0646e0e4885dd8c69dddd6b2742b3b1b\n",
      "review_score                                                               5\n",
      "review_comment_title                                                     NaN\n",
      "review_comment_message     Eu recebi mas compreo o produto errado,queria ...\n",
      "review_creation_date                                     2018-02-22 00:00:00\n",
      "review_answer_timestamp                                  2018-02-23 00:46:12\n",
      "prompt                     Analyze the sentiment of the news headline enc...\n",
      "Name: 16000, dtype: object\n"
     ]
    },
    {
     "name": "stderr",
     "output_type": "stream",
     "text": [
      " 40%|███▉      | 16503/41600 [16:53<25:30, 16.40it/s]"
     ]
    },
    {
     "name": "stdout",
     "output_type": "stream",
     "text": [
      "Analyze the sentiment of the news headline enclosed in square brackets, \n",
      "                determine if it is positive, neutral, or negative, and return the answer as \n",
      "                the corresponding sentiment label \"positive\" or \"neutral\" or \"negative\".\n",
      "\n",
      "                [I'm not running out of time.] = neutral neutral sentiment                                                            neutral\n",
      "text                                            I'm not running out of time.\n",
      "review_id                                   82f84f89b46a82e0ecd8b87394336758\n",
      "order_id                                    3e68d0953d76c816cb9b580357cf65a1\n",
      "review_score                                                               3\n",
      "review_comment_title                                                     NaN\n",
      "review_comment_message                                   Não cumpre o prazo \n",
      "review_creation_date                                     2018-08-12 00:00:00\n",
      "review_answer_timestamp                                  2018-08-12 13:25:17\n",
      "prompt                     Analyze the sentiment of the news headline enc...\n",
      "Name: 16500, dtype: object\n"
     ]
    },
    {
     "name": "stderr",
     "output_type": "stream",
     "text": [
      " 41%|████      | 17003/41600 [17:24<24:57, 16.42it/s]"
     ]
    },
    {
     "name": "stdout",
     "output_type": "stream",
     "text": [
      "Analyze the sentiment of the news headline enclosed in square brackets, \n",
      "                determine if it is positive, neutral, or negative, and return the answer as \n",
      "                the corresponding sentiment label \"positive\" or \"neutral\" or \"negative\".\n",
      "\n",
      "                [I got it right and on time.] = positive positive sentiment                                                           positive\n",
      "text                                             I got it right and on time.\n",
      "review_id                                   431ddeba40a48baf2155101356e4cef0\n",
      "order_id                                    25b6ae31ba1a3067f78230921e80422d\n",
      "review_score                                                               5\n",
      "review_comment_title                                                     NaN\n",
      "review_comment_message                        Recebi corretamente e no prazo\n",
      "review_creation_date                                     2018-01-27 00:00:00\n",
      "review_answer_timestamp                                  2018-01-30 11:11:59\n",
      "prompt                     Analyze the sentiment of the news headline enc...\n",
      "Name: 17000, dtype: object\n"
     ]
    },
    {
     "name": "stderr",
     "output_type": "stream",
     "text": [
      " 42%|████▏     | 17503/41600 [17:55<24:26, 16.43it/s]"
     ]
    },
    {
     "name": "stdout",
     "output_type": "stream",
     "text": [
      "Analyze the sentiment of the news headline enclosed in square brackets, \n",
      "                determine if it is positive, neutral, or negative, and return the answer as \n",
      "                the corresponding sentiment label \"positive\" or \"neutral\" or \"negative\".\n",
      "\n",
      "                [Lindoooi.] = neutral neutral sentiment                                                           positive\n",
      "text                                                               Lindoooi.\n",
      "review_id                                   a7608c1be068be5632ef67238b31baad\n",
      "order_id                                    4b73c0e7ff2959acc87faf89631f9943\n",
      "review_score                                                               5\n",
      "review_comment_title                                                     NaN\n",
      "review_comment_message                                              Lindoooi\n",
      "review_creation_date                                     2018-08-23 00:00:00\n",
      "review_answer_timestamp                                  2018-08-24 19:58:39\n",
      "prompt                     Analyze the sentiment of the news headline enc...\n",
      "Name: 17500, dtype: object\n"
     ]
    },
    {
     "name": "stderr",
     "output_type": "stream",
     "text": [
      " 43%|████▎     | 18003/41600 [18:25<24:12, 16.24it/s]"
     ]
    },
    {
     "name": "stdout",
     "output_type": "stream",
     "text": [
      "Analyze the sentiment of the news headline enclosed in square brackets, \n",
      "                determine if it is positive, neutral, or negative, and return the answer as \n",
      "                the corresponding sentiment label \"positive\" or \"neutral\" or \"negative\".\n",
      "\n",
      "                [Very good. Just bought the lannister. Never had a problem. I recommend it.] = positive positive sentiment                                                           positive\n",
      "text                       Very good. Just bought the lannister. Never ha...\n",
      "review_id                                   a1c1d42b3455fa06424b89f557e10b64\n",
      "order_id                                    0ad02b6f33a90fe5d09e0b416287857f\n",
      "review_score                                                               4\n",
      "review_comment_title                                               Muito bom\n",
      "review_comment_message     Sempre comprei pela lannister.Nunca tive probl...\n",
      "review_creation_date                                     2018-05-24 00:00:00\n",
      "review_answer_timestamp                                  2018-05-26 22:10:51\n",
      "prompt                     Analyze the sentiment of the news headline enc...\n",
      "Name: 18000, dtype: object\n"
     ]
    },
    {
     "name": "stderr",
     "output_type": "stream",
     "text": [
      " 44%|████▍     | 18503/41600 [18:56<24:45, 15.55it/s]"
     ]
    },
    {
     "name": "stdout",
     "output_type": "stream",
     "text": [
      "Analyze the sentiment of the news headline enclosed in square brackets, \n",
      "                determine if it is positive, neutral, or negative, and return the answer as \n",
      "                the corresponding sentiment label \"positive\" or \"neutral\" or \"negative\".\n",
      "\n",
      "                [I didn't get it, I ran out of time, I tried to find out, and I said, \"\" The product's been taken out of SP's mailboxes, matched with another agency, \"\" and at another agency, I was informed that the product had not been tagged there.] = neutral neutral sentiment                                                           negative\n",
      "text                       I didn't get it, I ran out of time, I tried to...\n",
      "review_id                                   4ef60fc337effaeca34f35c0ccd4aa1c\n",
      "order_id                                    807d374126669a84b2391ebcda50821e\n",
      "review_score                                                               1\n",
      "review_comment_title                                                     NaN\n",
      "review_comment_message     Não recebi, passou do prazo, tentei localizar ...\n",
      "review_creation_date                                     2018-04-05 00:00:00\n",
      "review_answer_timestamp                                  2018-04-05 13:01:20\n",
      "prompt                     Analyze the sentiment of the news headline enc...\n",
      "Name: 18500, dtype: object\n"
     ]
    },
    {
     "name": "stderr",
     "output_type": "stream",
     "text": [
      " 46%|████▌     | 19003/41600 [19:27<22:55, 16.43it/s]"
     ]
    },
    {
     "name": "stdout",
     "output_type": "stream",
     "text": [
      "Analyze the sentiment of the news headline enclosed in square brackets, \n",
      "                determine if it is positive, neutral, or negative, and return the answer as \n",
      "                the corresponding sentiment label \"positive\" or \"neutral\" or \"negative\".\n",
      "\n",
      "                [Great.] = positive positive sentiment                                                           positive\n",
      "text                                                                  Great.\n",
      "review_id                                   0bea93b9311cc3f91e9c6ec20a6c0e28\n",
      "order_id                                    4baa890f39672eca09e8d4cf0ffdd4d5\n",
      "review_score                                                               5\n",
      "review_comment_title                                                     NaN\n",
      "review_comment_message                                                 otimo\n",
      "review_creation_date                                     2017-07-15 00:00:00\n",
      "review_answer_timestamp                                  2017-07-18 20:23:37\n",
      "prompt                     Analyze the sentiment of the news headline enc...\n",
      "Name: 19000, dtype: object\n"
     ]
    },
    {
     "name": "stderr",
     "output_type": "stream",
     "text": [
      " 47%|████▋     | 19503/41600 [19:57<22:39, 16.25it/s]"
     ]
    },
    {
     "name": "stdout",
     "output_type": "stream",
     "text": [
      "Analyze the sentiment of the news headline enclosed in square brackets, \n",
      "                determine if it is positive, neutral, or negative, and return the answer as \n",
      "                the corresponding sentiment label \"positive\" or \"neutral\" or \"negative\".\n",
      "\n",
      "                [Very good. Product arrives on time.] = positive positive sentiment                                                           positive\n",
      "text                                     Very good. Product arrives on time.\n",
      "review_id                                   059e98f49cc469d633b12bfac0efda1e\n",
      "order_id                                    3160f9fa13bf36dda5ba225649526968\n",
      "review_score                                                               5\n",
      "review_comment_title                                               Muito Bom\n",
      "review_comment_message                         Produto chegou antes do prazo\n",
      "review_creation_date                                     2018-05-01 00:00:00\n",
      "review_answer_timestamp                                  2018-05-01 22:22:41\n",
      "prompt                     Analyze the sentiment of the news headline enc...\n",
      "Name: 19500, dtype: object\n"
     ]
    },
    {
     "name": "stderr",
     "output_type": "stream",
     "text": [
      " 48%|████▊     | 19999/41600 [20:28<21:49, 16.50it/s]"
     ]
    },
    {
     "name": "stdout",
     "output_type": "stream",
     "text": [
      "Analyze the sentiment of the news headline enclosed in square brackets, \n",
      "                determine if it is positive, neutral, or negative, and return the answer as \n",
      "                the corresponding sentiment label \"positive\" or \"neutral\" or \"negative\".\n",
      "\n",
      "                [The chair came all crumpled up and packaged, and the assembly isn't easy because the axles are very hard, and the manual says you need a rubber hammer, which I don't have, and I'm going to be obliged to buy one.] = negative negative sentiment                                                           negative\n",
      "text                       The chair came all crumpled up and packaged, a...\n",
      "review_id                                   139796620a5b63e4cc097380c7a9a810\n",
      "order_id                                    045e9ebd4d41affc66333d58c3d107c1\n",
      "review_score                                                               1\n",
      "review_comment_title                                                     NaN\n",
      "review_comment_message     A cadeira veio toda arranhada e encardida e a ...\n",
      "review_creation_date                                     2017-03-14 00:00:00\n",
      "review_answer_timestamp                                  2017-03-15 21:57:54\n",
      "prompt                     Analyze the sentiment of the news headline enc...\n",
      "Name: 20000, dtype: object\n",
      "\u001b[H\u001b[2J20001\n",
      "  sentiment predict_sentiment  \\\n",
      "0  positive           neutral   \n",
      "1  positive           neutral   \n",
      "2  positive           neutral   \n",
      "\n",
      "                                                text  \\\n",
      "0                  I got it well before my due date.   \n",
      "1  Thank you lannister stores I loved to buy thro...   \n",
      "2  I recommend it. I think it's effective. On the...   \n",
      "\n",
      "                          review_id                          order_id  \\\n",
      "0  e64fb393e7b32834bb789ff8bb30750e  658677c97b385a9be170737859d3511b   \n",
      "1  f7c4243c7fe1938f181bec41a392bdeb  8e6bfb81e283fa7e4f11123a3fb894f1   \n",
      "2  8670d52e15e00043ae7de4c01cc2fe06  b9bf720beb4ab3728760088589c62129   \n",
      "\n",
      "   review_score review_comment_title  \\\n",
      "0             5                  NaN   \n",
      "1             5                  NaN   \n",
      "2             4            recomendo   \n",
      "\n",
      "                              review_comment_message review_creation_date  \\\n",
      "0              Recebi bem antes do prazo estipulado.  2017-04-21 00:00:00   \n",
      "1  Parabéns lojas lannister adorei comprar pela I...  2018-03-01 00:00:00   \n",
      "2  aparelho eficiente. no site a marca do aparelh...  2018-05-22 00:00:00   \n",
      "\n",
      "  review_answer_timestamp  \n",
      "0     2017-04-21 22:02:06  \n",
      "1     2018-03-02 10:26:53  \n",
      "2     2018-05-23 16:45:47  \n"
     ]
    },
    {
     "name": "stderr",
     "output_type": "stream",
     "text": [
      " 48%|████▊     | 20003/41600 [20:28<39:17,  9.16it/s]"
     ]
    },
    {
     "name": "stdout",
     "output_type": "stream",
     "text": [
      "处理完成，新文件已保存为 output/predicted_reviews_20001.csv\n",
      "Index(['sentiment', 'predict_sentiment', 'text', 'review_id', 'order_id',\n",
      "       'review_score', 'review_comment_title', 'review_comment_message',\n",
      "       'review_creation_date', 'review_answer_timestamp'],\n",
      "      dtype='object') 20001\n"
     ]
    },
    {
     "name": "stderr",
     "output_type": "stream",
     "text": [
      " 49%|████▉     | 20503/41600 [20:59<21:46, 16.15it/s]"
     ]
    },
    {
     "name": "stdout",
     "output_type": "stream",
     "text": [
      "Analyze the sentiment of the news headline enclosed in square brackets, \n",
      "                determine if it is positive, neutral, or negative, and return the answer as \n",
      "                the corresponding sentiment label \"positive\" or \"neutral\" or \"negative\".\n",
      "\n",
      "                [I got the mask, but it was a different color, and unfortunately I couldn't trade it because I had already played the check out.] = neutral neutral sentiment                                                           negative\n",
      "text                       I got the mask, but it was a different color, ...\n",
      "review_id                                   68f42cd6a219b4b9a495360329a01c6d\n",
      "order_id                                    2d5c2551306ebb8492eb8c36d062f314\n",
      "review_score                                                               1\n",
      "review_comment_title                                           Não recomendo\n",
      "review_comment_message     Recebi a mascara mas de outra cor. Infelizment...\n",
      "review_creation_date                                     2018-08-17 00:00:00\n",
      "review_answer_timestamp                                  2018-08-29 14:47:59\n",
      "prompt                     Analyze the sentiment of the news headline enc...\n",
      "Name: 20500, dtype: object\n"
     ]
    },
    {
     "name": "stderr",
     "output_type": "stream",
     "text": [
      " 50%|█████     | 21003/41600 [21:30<20:58, 16.36it/s]"
     ]
    },
    {
     "name": "stdout",
     "output_type": "stream",
     "text": [
      "Analyze the sentiment of the news headline enclosed in square brackets, \n",
      "                determine if it is positive, neutral, or negative, and return the answer as \n",
      "                the corresponding sentiment label \"positive\" or \"neutral\" or \"negative\".\n",
      "\n",
      "                [Great quality product, I recommend it.] = positive positive sentiment                                                           positive\n",
      "text                                  Great quality product, I recommend it.\n",
      "review_id                                   d255821a10613ddaadd496144daf8112\n",
      "order_id                                    26e3479944a2474469bd497d2b01ab24\n",
      "review_score                                                               5\n",
      "review_comment_title                                                     NaN\n",
      "review_comment_message                   Produto de ótima qualidade, indico.\n",
      "review_creation_date                                     2018-05-09 00:00:00\n",
      "review_answer_timestamp                                  2018-05-11 21:21:48\n",
      "prompt                     Analyze the sentiment of the news headline enc...\n",
      "Name: 21000, dtype: object\n"
     ]
    },
    {
     "name": "stderr",
     "output_type": "stream",
     "text": [
      " 52%|█████▏    | 21503/41600 [22:00<20:44, 16.15it/s]"
     ]
    },
    {
     "name": "stdout",
     "output_type": "stream",
     "text": [
      "Analyze the sentiment of the news headline enclosed in square brackets, \n",
      "                determine if it is positive, neutral, or negative, and return the answer as \n",
      "                the corresponding sentiment label \"positive\" or \"neutral\" or \"negative\".\n",
      "\n",
      "                [I'm waiting for my couch I bought before to be delivered on day 16 until I get it, and I can't cancel it, no satisfaction, I think it's a lack of respect for the customer if you don't think so.] = negative negative sentiment                                                           positive\n",
      "text                       I'm waiting for my couch I bought before to be...\n",
      "review_id                                   c12d337b5ba5b80d52367afb71f417ca\n",
      "order_id                                    d31a9548ec43f1d8973413419706be40\n",
      "review_score                                                               5\n",
      "review_comment_title                                                     NaN\n",
      "review_comment_message     Aguardo o meu sofá que comprei antes para entr...\n",
      "review_creation_date                                     2018-01-23 00:00:00\n",
      "review_answer_timestamp                                  2018-01-24 01:04:58\n",
      "prompt                     Analyze the sentiment of the news headline enc...\n",
      "Name: 21500, dtype: object\n"
     ]
    },
    {
     "name": "stderr",
     "output_type": "stream",
     "text": [
      " 53%|█████▎    | 22003/41600 [22:31<20:00, 16.32it/s]"
     ]
    },
    {
     "name": "stdout",
     "output_type": "stream",
     "text": [
      "Analyze the sentiment of the news headline enclosed in square brackets, \n",
      "                determine if it is positive, neutral, or negative, and return the answer as \n",
      "                the corresponding sentiment label \"positive\" or \"neutral\" or \"negative\".\n",
      "\n",
      "                [Good.] = positive positive sentiment                                                            neutral\n",
      "text                                                                   Good.\n",
      "review_id                                   bed2472c903a7b23332874fa45e7f7ea\n",
      "order_id                                    5766a94fc9251eeea6bfe0ac7618d5b1\n",
      "review_score                                                               3\n",
      "review_comment_title                                                     NaN\n",
      "review_comment_message                                                   Boa\n",
      "review_creation_date                                     2017-12-30 00:00:00\n",
      "review_answer_timestamp                                  2018-01-01 19:51:55\n",
      "prompt                     Analyze the sentiment of the news headline enc...\n",
      "Name: 22000, dtype: object\n"
     ]
    },
    {
     "name": "stderr",
     "output_type": "stream",
     "text": [
      " 54%|█████▍    | 22503/41600 [23:01<19:38, 16.20it/s]"
     ]
    },
    {
     "name": "stdout",
     "output_type": "stream",
     "text": [
      "Analyze the sentiment of the news headline enclosed in square brackets, \n",
      "                determine if it is positive, neutral, or negative, and return the answer as \n",
      "                the corresponding sentiment label \"positive\" or \"neutral\" or \"negative\".\n",
      "\n",
      "                [Again, I'm evaluating the quality of the product because I didn't know it.] = neutral neutral sentiment                                                           positive\n",
      "text                       Again, I'm evaluating the quality of the produ...\n",
      "review_id                                   1785b1b99028bcd3fdb2acce7017e965\n",
      "order_id                                    9aa14168a046c59b46f06deddfa3c9a4\n",
      "review_score                                                               4\n",
      "review_comment_title                                                     NaN\n",
      "review_comment_message     Ainda estou avaliando a qualidade do produto \\...\n",
      "review_creation_date                                     2018-01-24 00:00:00\n",
      "review_answer_timestamp                                  2018-01-24 22:44:16\n",
      "prompt                     Analyze the sentiment of the news headline enc...\n",
      "Name: 22500, dtype: object\n"
     ]
    },
    {
     "name": "stderr",
     "output_type": "stream",
     "text": [
      " 55%|█████▌    | 23003/41600 [23:32<18:53, 16.41it/s]"
     ]
    },
    {
     "name": "stdout",
     "output_type": "stream",
     "text": [
      "Analyze the sentiment of the news headline enclosed in square brackets, \n",
      "                determine if it is positive, neutral, or negative, and return the answer as \n",
      "                the corresponding sentiment label \"positive\" or \"neutral\" or \"negative\".\n",
      "\n",
      "                [Quality products, timely delivery, I'll check out the store, I'll get the product results — I'm still going into use.] = neutral neutral sentiment                                                           positive\n",
      "text                       Quality products, timely delivery, I'll check ...\n",
      "review_id                                   9ae056ea71c5105dc563ccfbf3ca821b\n",
      "order_id                                    1c8453ac180e833c992dc135bd9302c5\n",
      "review_score                                                               5\n",
      "review_comment_title                                                     NaN\n",
      "review_comment_message     Produtos de qualidade , chegaram antes do praz...\n",
      "review_creation_date                                     2017-10-12 00:00:00\n",
      "review_answer_timestamp                                  2017-10-12 21:58:31\n",
      "prompt                     Analyze the sentiment of the news headline enc...\n",
      "Name: 23000, dtype: object\n"
     ]
    },
    {
     "name": "stderr",
     "output_type": "stream",
     "text": [
      " 56%|█████▋    | 23503/41600 [24:02<18:31, 16.28it/s]"
     ]
    },
    {
     "name": "stdout",
     "output_type": "stream",
     "text": [
      "Analyze the sentiment of the news headline enclosed in square brackets, \n",
      "                determine if it is positive, neutral, or negative, and return the answer as \n",
      "                the corresponding sentiment label \"positive\" or \"neutral\" or \"negative\".\n",
      "\n",
      "                [I'm waiting for my product.] = neutral neutral sentiment                                                           negative\n",
      "text                                             I'm waiting for my product.\n",
      "review_id                                   55ce177abde80aa528b54b2d8a23d642\n",
      "order_id                                    1b506ab4d2fae3d70d95f8d0a4d8d094\n",
      "review_score                                                               1\n",
      "review_comment_title                                                     NaN\n",
      "review_comment_message                         Estou aguardando meu produto.\n",
      "review_creation_date                                     2017-09-28 00:00:00\n",
      "review_answer_timestamp                                  2017-09-28 03:27:57\n",
      "prompt                     Analyze the sentiment of the news headline enc...\n",
      "Name: 23500, dtype: object\n"
     ]
    },
    {
     "name": "stderr",
     "output_type": "stream",
     "text": [
      " 58%|█████▊    | 24003/41600 [24:33<17:54, 16.37it/s]"
     ]
    },
    {
     "name": "stdout",
     "output_type": "stream",
     "text": [
      "Analyze the sentiment of the news headline enclosed in square brackets, \n",
      "                determine if it is positive, neutral, or negative, and return the answer as \n",
      "                the corresponding sentiment label \"positive\" or \"neutral\" or \"negative\".\n",
      "\n",
      "                [Product delivered on time.] = neutral neutral sentiment                                                           positive\n",
      "text                                              Product delivered on time.\n",
      "review_id                                   add4ba344a897402bb6d5c3844230c4d\n",
      "order_id                                    e11c0a03163b8110243cfb64df2b07d4\n",
      "review_score                                                               5\n",
      "review_comment_title                                                     NaN\n",
      "review_comment_message                             Produto entregue no prazo\n",
      "review_creation_date                                     2017-10-01 00:00:00\n",
      "review_answer_timestamp                                  2017-10-02 19:35:21\n",
      "prompt                     Analyze the sentiment of the news headline enc...\n",
      "Name: 24000, dtype: object\n"
     ]
    },
    {
     "name": "stderr",
     "output_type": "stream",
     "text": [
      " 59%|█████▉    | 24503/41600 [25:03<17:23, 16.38it/s]"
     ]
    },
    {
     "name": "stdout",
     "output_type": "stream",
     "text": [
      "Analyze the sentiment of the news headline enclosed in square brackets, \n",
      "                determine if it is positive, neutral, or negative, and return the answer as \n",
      "                the corresponding sentiment label \"positive\" or \"neutral\" or \"negative\".\n",
      "\n",
      "                [It's a very nice smooth skin that doesn't photo is bright brown and comes in a very dark brown almost black, and the skin is pretty shiny.] = neutral neutral sentiment                                                           positive\n",
      "text                       It's a very nice smooth skin that doesn't phot...\n",
      "review_id                                   dd9059a10ec05b68fd2077c87881166c\n",
      "order_id                                    78f8aa2ff4291290af1db54c0e87de6f\n",
      "review_score                                                               5\n",
      "review_comment_title                                                     NaN\n",
      "review_comment_message     Tapete muito bonito peludo grande pena que não...\n",
      "review_creation_date                                     2017-09-15 00:00:00\n",
      "review_answer_timestamp                                  2017-09-15 20:43:42\n",
      "prompt                     Analyze the sentiment of the news headline enc...\n",
      "Name: 24500, dtype: object\n"
     ]
    },
    {
     "name": "stderr",
     "output_type": "stream",
     "text": [
      " 60%|██████    | 24999/41600 [25:34<16:50, 16.42it/s]"
     ]
    },
    {
     "name": "stdout",
     "output_type": "stream",
     "text": [
      "Analyze the sentiment of the news headline enclosed in square brackets, \n",
      "                determine if it is positive, neutral, or negative, and return the answer as \n",
      "                the corresponding sentiment label \"positive\" or \"neutral\" or \"negative\".\n",
      "\n",
      "                [I need the tax return. The product was delivered properly, but the tax return was missing, and I'd like you to send me the tax return for this product.] = neutral neutral sentiment                                                           negative\n",
      "text                       I need the tax return. The product was deliver...\n",
      "review_id                                   7d0b7d5a8c40cdec1ae92405ef42f3c2\n",
      "order_id                                    83f3d57e77ac04a095a21b92ae0fd835\n",
      "review_score                                                               2\n",
      "review_comment_title                                  Preciso da nota fiscal\n",
      "review_comment_message     O produto foi entregue correto mas faltou a no...\n",
      "review_creation_date                                     2018-06-02 00:00:00\n",
      "review_answer_timestamp                                  2018-06-03 02:03:07\n",
      "prompt                     Analyze the sentiment of the news headline enc...\n",
      "Name: 25000, dtype: object\n",
      "\u001b[H\u001b[2J25001\n",
      "  sentiment predict_sentiment  \\\n",
      "0  positive           neutral   \n",
      "1  positive           neutral   \n",
      "2  positive           neutral   \n",
      "\n",
      "                                                text  \\\n",
      "0                  I got it well before my due date.   \n",
      "1  Thank you lannister stores I loved to buy thro...   \n",
      "2  I recommend it. I think it's effective. On the...   \n",
      "\n",
      "                          review_id                          order_id  \\\n",
      "0  e64fb393e7b32834bb789ff8bb30750e  658677c97b385a9be170737859d3511b   \n",
      "1  f7c4243c7fe1938f181bec41a392bdeb  8e6bfb81e283fa7e4f11123a3fb894f1   \n",
      "2  8670d52e15e00043ae7de4c01cc2fe06  b9bf720beb4ab3728760088589c62129   \n",
      "\n",
      "   review_score review_comment_title  \\\n",
      "0             5                  NaN   \n",
      "1             5                  NaN   \n",
      "2             4            recomendo   \n",
      "\n",
      "                              review_comment_message review_creation_date  \\\n",
      "0              Recebi bem antes do prazo estipulado.  2017-04-21 00:00:00   \n",
      "1  Parabéns lojas lannister adorei comprar pela I...  2018-03-01 00:00:00   \n",
      "2  aparelho eficiente. no site a marca do aparelh...  2018-05-22 00:00:00   \n",
      "\n",
      "  review_answer_timestamp  \n",
      "0     2017-04-21 22:02:06  \n",
      "1     2018-03-02 10:26:53  \n",
      "2     2018-05-23 16:45:47  \n"
     ]
    },
    {
     "name": "stderr",
     "output_type": "stream",
     "text": [
      " 60%|██████    | 25003/41600 [25:35<33:17,  8.31it/s]"
     ]
    },
    {
     "name": "stdout",
     "output_type": "stream",
     "text": [
      "处理完成，新文件已保存为 output/predicted_reviews_25001.csv\n",
      "Index(['sentiment', 'predict_sentiment', 'text', 'review_id', 'order_id',\n",
      "       'review_score', 'review_comment_title', 'review_comment_message',\n",
      "       'review_creation_date', 'review_answer_timestamp'],\n",
      "      dtype='object') 25001\n"
     ]
    },
    {
     "name": "stderr",
     "output_type": "stream",
     "text": [
      " 61%|██████▏   | 25503/41600 [26:05<16:52, 15.89it/s]"
     ]
    },
    {
     "name": "stdout",
     "output_type": "stream",
     "text": [
      "Analyze the sentiment of the news headline enclosed in square brackets, \n",
      "                determine if it is positive, neutral, or negative, and return the answer as \n",
      "                the corresponding sentiment label \"positive\" or \"neutral\" or \"negative\".\n",
      "\n",
      "                [Recommend. Very satisfied, product arrives on time and fully meets my expectations.] = positive positive sentiment                                                           positive\n",
      "text                       Recommend. Very satisfied, product arrives on ...\n",
      "review_id                                   e77a17ca0a7eca0962ff8dd8b80d3472\n",
      "order_id                                    a4388d21a40d3fa0915cd15e2172eb45\n",
      "review_score                                                               5\n",
      "review_comment_title                                               Recomendo\n",
      "review_comment_message     Muito satisfeita, produto chegou antes do praz...\n",
      "review_creation_date                                     2018-08-22 00:00:00\n",
      "review_answer_timestamp                                  2018-08-22 20:16:30\n",
      "prompt                     Analyze the sentiment of the news headline enc...\n",
      "Name: 25500, dtype: object\n"
     ]
    },
    {
     "name": "stderr",
     "output_type": "stream",
     "text": [
      " 63%|██████▎   | 26003/41600 [26:36<15:57, 16.29it/s]"
     ]
    },
    {
     "name": "stdout",
     "output_type": "stream",
     "text": [
      "Analyze the sentiment of the news headline enclosed in square brackets, \n",
      "                determine if it is positive, neutral, or negative, and return the answer as \n",
      "                the corresponding sentiment label \"positive\" or \"neutral\" or \"negative\".\n",
      "\n",
      "                [I was buying some watches from around the world, and I didn't get the fairytale \"\" Ieke Malha Colored-White \"\" Women's Watch.] = neutral neutral sentiment                                                           negative\n",
      "text                       I was buying some watches from around the worl...\n",
      "review_id                                   61e2f7733e5ccfd9630bcc6c3698a4f1\n",
      "order_id                                    2dceebebb97f2c0222194e9c24c28296\n",
      "review_score                                                               1\n",
      "review_comment_title                                                     NaN\n",
      "review_comment_message     Fiz a comprar de does relógio de pulso e não r...\n",
      "review_creation_date                                     2017-11-05 00:00:00\n",
      "review_answer_timestamp                                  2017-11-05 14:29:14\n",
      "prompt                     Analyze the sentiment of the news headline enc...\n",
      "Name: 26000, dtype: object\n"
     ]
    },
    {
     "name": "stderr",
     "output_type": "stream",
     "text": [
      " 64%|██████▎   | 26503/41600 [27:06<15:20, 16.39it/s]"
     ]
    },
    {
     "name": "stdout",
     "output_type": "stream",
     "text": [
      "Analyze the sentiment of the news headline enclosed in square brackets, \n",
      "                determine if it is positive, neutral, or negative, and return the answer as \n",
      "                the corresponding sentiment label \"positive\" or \"neutral\" or \"negative\".\n",
      "\n",
      "                [The transaction happened normally, as requested.] = neutral neutral sentiment                                                           positive\n",
      "text                        The transaction happened normally, as requested.\n",
      "review_id                                   f9115c2d63c5594702321736ab586b8d\n",
      "order_id                                    371108e902be11a7d9b8ce66a1893241\n",
      "review_score                                                               5\n",
      "review_comment_title                                                     NaN\n",
      "review_comment_message     A transação ocorreu normalmente, conforme pedido.\n",
      "review_creation_date                                     2018-01-04 00:00:00\n",
      "review_answer_timestamp                                  2018-01-08 13:26:54\n",
      "prompt                     Analyze the sentiment of the news headline enc...\n",
      "Name: 26500, dtype: object\n"
     ]
    },
    {
     "name": "stderr",
     "output_type": "stream",
     "text": [
      " 65%|██████▍   | 27003/41600 [27:37<15:14, 15.96it/s]"
     ]
    },
    {
     "name": "stdout",
     "output_type": "stream",
     "text": [
      "Analyze the sentiment of the news headline enclosed in square brackets, \n",
      "                determine if it is positive, neutral, or negative, and return the answer as \n",
      "                the corresponding sentiment label \"positive\" or \"neutral\" or \"negative\".\n",
      "\n",
      "                [I can't recommend it. I didn't get it. It's been a while.] = neutral neutral sentiment                                                           negative\n",
      "text                       I can't recommend it. I didn't get it. It's be...\n",
      "review_id                                   c2ed33bcbe7d48bdb67bc5a31bdb442e\n",
      "order_id                                    8f13ca9482f62f69781a1141ebad41e9\n",
      "review_score                                                               1\n",
      "review_comment_title                                           Não recomendo\n",
      "review_comment_message                       Não recebi está demorando muito\n",
      "review_creation_date                                     2018-06-07 00:00:00\n",
      "review_answer_timestamp                                  2018-06-07 13:35:32\n",
      "prompt                     Analyze the sentiment of the news headline enc...\n",
      "Name: 27000, dtype: object\n"
     ]
    },
    {
     "name": "stderr",
     "output_type": "stream",
     "text": [
      " 66%|██████▌   | 27503/41600 [28:08<14:23, 16.32it/s]"
     ]
    },
    {
     "name": "stdout",
     "output_type": "stream",
     "text": [
      "Analyze the sentiment of the news headline enclosed in square brackets, \n",
      "                determine if it is positive, neutral, or negative, and return the answer as \n",
      "                the corresponding sentiment label \"positive\" or \"neutral\" or \"negative\".\n",
      "\n",
      "                [The light bulb is beautiful, but I bought and paid for three of them, only one of them was delivered.] = negative negative sentiment                                                           negative\n",
      "text                       The light bulb is beautiful, but I bought and ...\n",
      "review_id                                   2097099ab5d7679eea62752cd2b8fb5c\n",
      "order_id                                    8023039e9b07973c9aea60155b52e41a\n",
      "review_score                                                               1\n",
      "review_comment_title                                                     NaN\n",
      "review_comment_message     a luminária é linda , mas comprei e paguei 3 l...\n",
      "review_creation_date                                     2018-03-29 00:00:00\n",
      "review_answer_timestamp                                  2018-03-29 11:30:55\n",
      "prompt                     Analyze the sentiment of the news headline enc...\n",
      "Name: 27500, dtype: object\n"
     ]
    },
    {
     "name": "stderr",
     "output_type": "stream",
     "text": [
      " 67%|██████▋   | 28003/41600 [28:38<13:52, 16.32it/s]"
     ]
    },
    {
     "name": "stdout",
     "output_type": "stream",
     "text": [
      "Analyze the sentiment of the news headline enclosed in square brackets, \n",
      "                determine if it is positive, neutral, or negative, and return the answer as \n",
      "                the corresponding sentiment label \"positive\" or \"neutral\" or \"negative\".\n",
      "\n",
      "                [Received within a reasonable period of time under perfect conditions.] = neutral neutral sentiment                                                           positive\n",
      "text                       Received within a reasonable period of time un...\n",
      "review_id                                   2016497db24ae9318425947d717da8aa\n",
      "order_id                                    50b8644a6f58db94a0d3beb21e0e9a01\n",
      "review_score                                                               5\n",
      "review_comment_title                                                     NaN\n",
      "review_comment_message      Recebido dentro do prazo em perfeitas condições \n",
      "review_creation_date                                     2017-05-10 00:00:00\n",
      "review_answer_timestamp                                  2017-05-11 10:41:30\n",
      "prompt                     Analyze the sentiment of the news headline enc...\n",
      "Name: 28000, dtype: object\n"
     ]
    },
    {
     "name": "stderr",
     "output_type": "stream",
     "text": [
      " 69%|██████▊   | 28503/41600 [29:09<13:28, 16.19it/s]"
     ]
    },
    {
     "name": "stdout",
     "output_type": "stream",
     "text": [
      "Analyze the sentiment of the news headline enclosed in square brackets, \n",
      "                determine if it is positive, neutral, or negative, and return the answer as \n",
      "                the corresponding sentiment label \"positive\" or \"neutral\" or \"negative\".\n",
      "\n",
      "                [I paid for the freight, but it didn't get delivered to my home, and the product is in my inbox, because I've already bought it and it's been delivered to my home, and the bigger problem is there's a lot of storage.] = neutral neutral sentiment                                                           positive\n",
      "text                       I paid for the freight, but it didn't get deli...\n",
      "review_id                                   00b49439147c80e6916759355791a8cf\n",
      "order_id                                    03dbf3a42789c67ed5e2198f08d997dc\n",
      "review_score                                                               4\n",
      "review_comment_title                                                     NaN\n",
      "review_comment_message     Paguei o frete porém não foi feita a entrega e...\n",
      "review_creation_date                                     2018-03-23 00:00:00\n",
      "review_answer_timestamp                                  2018-03-27 14:33:29\n",
      "prompt                     Analyze the sentiment of the news headline enc...\n",
      "Name: 28500, dtype: object\n"
     ]
    },
    {
     "name": "stderr",
     "output_type": "stream",
     "text": [
      " 70%|██████▉   | 29003/41600 [29:39<12:51, 16.32it/s]"
     ]
    },
    {
     "name": "stdout",
     "output_type": "stream",
     "text": [
      "Analyze the sentiment of the news headline enclosed in square brackets, \n",
      "                determine if it is positive, neutral, or negative, and return the answer as \n",
      "                the corresponding sentiment label \"positive\" or \"neutral\" or \"negative\".\n",
      "\n",
      "                [Great job. I recommend it. Great product.] = positive positive sentiment                                                           positive\n",
      "text                               Great job. I recommend it. Great product.\n",
      "review_id                                   f76acd34e0a95cc4c2ea76c34fd37327\n",
      "order_id                                    b94de0a4b60ee9f23315de77e1dde986\n",
      "review_score                                                               5\n",
      "review_comment_title                                          otimo trabalho\n",
      "review_comment_message     eu recomendo otimo trabalho e produto\\r\\nbom ....\n",
      "review_creation_date                                     2018-02-23 00:00:00\n",
      "review_answer_timestamp                                  2018-08-17 20:22:50\n",
      "prompt                     Analyze the sentiment of the news headline enc...\n",
      "Name: 29000, dtype: object\n"
     ]
    },
    {
     "name": "stderr",
     "output_type": "stream",
     "text": [
      " 71%|███████   | 29503/41600 [30:10<12:19, 16.36it/s]"
     ]
    },
    {
     "name": "stdout",
     "output_type": "stream",
     "text": [
      "Analyze the sentiment of the news headline enclosed in square brackets, \n",
      "                determine if it is positive, neutral, or negative, and return the answer as \n",
      "                the corresponding sentiment label \"positive\" or \"neutral\" or \"negative\".\n",
      "\n",
      "                [Very good. Very good! Very well packaged and timely.] = positive positive sentiment                                                           positive\n",
      "text                       Very good. Very good! Very well packaged and t...\n",
      "review_id                                   8f3ee7fd5b8e5a4f84d03dc1111dba1d\n",
      "order_id                                    bb39531a5274b1368bc8c50fc681baaa\n",
      "review_score                                                               4\n",
      "review_comment_title                                               Muito bom\n",
      "review_comment_message     Muito bom! Veio muito bem embalado e chegou an...\n",
      "review_creation_date                                     2018-08-24 00:00:00\n",
      "review_answer_timestamp                                  2018-08-24 22:39:15\n",
      "prompt                     Analyze the sentiment of the news headline enc...\n",
      "Name: 29500, dtype: object\n"
     ]
    },
    {
     "name": "stderr",
     "output_type": "stream",
     "text": [
      " 72%|███████▏  | 29999/41600 [30:40<11:43, 16.48it/s]"
     ]
    },
    {
     "name": "stdout",
     "output_type": "stream",
     "text": [
      "Analyze the sentiment of the news headline enclosed in square brackets, \n",
      "                determine if it is positive, neutral, or negative, and return the answer as \n",
      "                the corresponding sentiment label \"positive\" or \"neutral\" or \"negative\".\n",
      "\n",
      "                [You might have put more paint on the insides of the shelves, but that's okay.] = neutral neutral sentiment                                                           positive\n",
      "text                       You might have put more paint on the insides o...\n",
      "review_id                                   4520a17387aeffa8f823aa06a1c7cd6b\n",
      "order_id                                    2f2a61c86aa7afe1c5f02283ed90b6ac\n",
      "review_score                                                               5\n",
      "review_comment_title                                                     NaN\n",
      "review_comment_message     Poderiam ter jateado mais tinta nas partes int...\n",
      "review_creation_date                                     2018-04-12 00:00:00\n",
      "review_answer_timestamp                                  2018-04-15 10:47:06\n",
      "prompt                     Analyze the sentiment of the news headline enc...\n",
      "Name: 30000, dtype: object\n",
      "\u001b[H\u001b[2J30001\n",
      "  sentiment predict_sentiment  \\\n",
      "0  positive           neutral   \n",
      "1  positive           neutral   \n",
      "2  positive           neutral   \n",
      "\n",
      "                                                text  \\\n",
      "0                  I got it well before my due date.   \n",
      "1  Thank you lannister stores I loved to buy thro...   \n",
      "2  I recommend it. I think it's effective. On the...   \n",
      "\n",
      "                          review_id                          order_id  \\\n",
      "0  e64fb393e7b32834bb789ff8bb30750e  658677c97b385a9be170737859d3511b   \n",
      "1  f7c4243c7fe1938f181bec41a392bdeb  8e6bfb81e283fa7e4f11123a3fb894f1   \n",
      "2  8670d52e15e00043ae7de4c01cc2fe06  b9bf720beb4ab3728760088589c62129   \n",
      "\n",
      "   review_score review_comment_title  \\\n",
      "0             5                  NaN   \n",
      "1             5                  NaN   \n",
      "2             4            recomendo   \n",
      "\n",
      "                              review_comment_message review_creation_date  \\\n",
      "0              Recebi bem antes do prazo estipulado.  2017-04-21 00:00:00   \n",
      "1  Parabéns lojas lannister adorei comprar pela I...  2018-03-01 00:00:00   \n",
      "2  aparelho eficiente. no site a marca do aparelh...  2018-05-22 00:00:00   \n",
      "\n",
      "  review_answer_timestamp  \n",
      "0     2017-04-21 22:02:06  \n",
      "1     2018-03-02 10:26:53  \n",
      "2     2018-05-23 16:45:47  \n"
     ]
    },
    {
     "name": "stderr",
     "output_type": "stream",
     "text": [
      " 72%|███████▏  | 30003/41600 [30:41<24:40,  7.83it/s]"
     ]
    },
    {
     "name": "stdout",
     "output_type": "stream",
     "text": [
      "处理完成，新文件已保存为 output/predicted_reviews_30001.csv\n",
      "Index(['sentiment', 'predict_sentiment', 'text', 'review_id', 'order_id',\n",
      "       'review_score', 'review_comment_title', 'review_comment_message',\n",
      "       'review_creation_date', 'review_answer_timestamp'],\n",
      "      dtype='object') 30001\n"
     ]
    },
    {
     "name": "stderr",
     "output_type": "stream",
     "text": [
      " 73%|███████▎  | 30503/41600 [31:11<11:20, 16.30it/s]"
     ]
    },
    {
     "name": "stdout",
     "output_type": "stream",
     "text": [
      "Analyze the sentiment of the news headline enclosed in square brackets, \n",
      "                determine if it is positive, neutral, or negative, and return the answer as \n",
      "                the corresponding sentiment label \"positive\" or \"neutral\" or \"negative\".\n",
      "\n",
      "                [You don't need it. It might just arrive in another office.] = neutral neutral sentiment                                                            neutral\n",
      "text                       You don't need it. It might just arrive in ano...\n",
      "review_id                                   b00226ada6d8fc0b12d3639eb2aac021\n",
      "order_id                                    912343626f370ead5ef2e85a9d757e22\n",
      "review_score                                                               3\n",
      "review_comment_title                                              falta item\n",
      "review_comment_message                       talvez chegue em outro despacho\n",
      "review_creation_date                                     2018-06-16 00:00:00\n",
      "review_answer_timestamp                                  2018-06-17 05:33:13\n",
      "prompt                     Analyze the sentiment of the news headline enc...\n",
      "Name: 30500, dtype: object\n"
     ]
    },
    {
     "name": "stderr",
     "output_type": "stream",
     "text": [
      " 75%|███████▍  | 31003/41600 [31:42<11:00, 16.04it/s]"
     ]
    },
    {
     "name": "stdout",
     "output_type": "stream",
     "text": [
      "Analyze the sentiment of the news headline enclosed in square brackets, \n",
      "                determine if it is positive, neutral, or negative, and return the answer as \n",
      "                the corresponding sentiment label \"positive\" or \"neutral\" or \"negative\".\n",
      "\n",
      "                [I got the product on time, only the fridge came off.] = neutral neutral sentiment                                                            neutral\n",
      "text                       I got the product on time, only the fridge cam...\n",
      "review_id                                   34d1ec716f29190c5bb5175a49226a0b\n",
      "order_id                                    9dd9df2aeed4645e230e7528a5b1d9ba\n",
      "review_score                                                               3\n",
      "review_comment_title                                                     NaN\n",
      "review_comment_message     recebi o produto no prazo de entrega só que o ...\n",
      "review_creation_date                                     2018-05-17 00:00:00\n",
      "review_answer_timestamp                                  2018-05-21 22:28:56\n",
      "prompt                     Analyze the sentiment of the news headline enc...\n",
      "Name: 31000, dtype: object\n"
     ]
    },
    {
     "name": "stderr",
     "output_type": "stream",
     "text": [
      " 76%|███████▌  | 31503/41600 [32:13<10:16, 16.37it/s]"
     ]
    },
    {
     "name": "stdout",
     "output_type": "stream",
     "text": [
      "Analyze the sentiment of the news headline enclosed in square brackets, \n",
      "                determine if it is positive, neutral, or negative, and return the answer as \n",
      "                the corresponding sentiment label \"positive\" or \"neutral\" or \"negative\".\n",
      "\n",
      "                [Original product, works, came out of the box, but only one day out of the box, that's it. It's packaged.] = neutral neutral sentiment                                                           positive\n",
      "text                       Original product, works, came out of the box, ...\n",
      "review_id                                   1a710fb2bb1dd539ec0cfed407f69e88\n",
      "order_id                                    5db3a02e1307a5ee2ee228738a72d4d7\n",
      "review_score                                                               5\n",
      "review_comment_title                                                     NaN\n",
      "review_comment_message     Produto original, funciona, veio fora do prazo...\n",
      "review_creation_date                                     2018-03-09 00:00:00\n",
      "review_answer_timestamp                                  2018-03-09 08:12:31\n",
      "prompt                     Analyze the sentiment of the news headline enc...\n",
      "Name: 31500, dtype: object\n"
     ]
    },
    {
     "name": "stderr",
     "output_type": "stream",
     "text": [
      " 77%|███████▋  | 32003/41600 [32:43<09:44, 16.41it/s]"
     ]
    },
    {
     "name": "stdout",
     "output_type": "stream",
     "text": [
      "Analyze the sentiment of the news headline enclosed in square brackets, \n",
      "                determine if it is positive, neutral, or negative, and return the answer as \n",
      "                the corresponding sentiment label \"positive\" or \"neutral\" or \"negative\".\n",
      "\n",
      "                [Great!] = positive positive sentiment                                                           positive\n",
      "text                                                                  Great!\n",
      "review_id                                   ad791eb98392b3cb1ca42d1e576bf59c\n",
      "order_id                                    244e8c98d54a7a388245e6b5b85d37ee\n",
      "review_score                                                               5\n",
      "review_comment_title                                                  Ótima!\n",
      "review_comment_message                                                   NaN\n",
      "review_creation_date                                     2018-07-07 00:00:00\n",
      "review_answer_timestamp                                  2018-07-07 21:55:06\n",
      "prompt                     Analyze the sentiment of the news headline enc...\n",
      "Name: 32000, dtype: object\n"
     ]
    },
    {
     "name": "stderr",
     "output_type": "stream",
     "text": [
      " 78%|███████▊  | 32503/41600 [33:14<09:15, 16.37it/s]"
     ]
    },
    {
     "name": "stdout",
     "output_type": "stream",
     "text": [
      "Analyze the sentiment of the news headline enclosed in square brackets, \n",
      "                determine if it is positive, neutral, or negative, and return the answer as \n",
      "                the corresponding sentiment label \"positive\" or \"neutral\" or \"negative\".\n",
      "\n",
      "                [.stark as always fulfilling the promise.] = neutral neutral sentiment                                                           positive\n",
      "text                                .stark as always fulfilling the promise.\n",
      "review_id                                   6891009489ffcf77551f3582e35dbeb7\n",
      "order_id                                    fb7ead2842ee0acaace53d1476d0b7ca\n",
      "review_score                                                               5\n",
      "review_comment_title                                                     NaN\n",
      "review_comment_message            stark como sempre cumprindo o que promete.\n",
      "review_creation_date                                     2017-11-14 00:00:00\n",
      "review_answer_timestamp                                  2017-11-17 10:23:59\n",
      "prompt                     Analyze the sentiment of the news headline enc...\n",
      "Name: 32500, dtype: object\n"
     ]
    },
    {
     "name": "stderr",
     "output_type": "stream",
     "text": [
      " 79%|███████▉  | 33003/41600 [33:44<08:43, 16.41it/s]"
     ]
    },
    {
     "name": "stdout",
     "output_type": "stream",
     "text": [
      "Analyze the sentiment of the news headline enclosed in square brackets, \n",
      "                determine if it is positive, neutral, or negative, and return the answer as \n",
      "                the corresponding sentiment label \"positive\" or \"neutral\" or \"negative\".\n",
      "\n",
      "                [Great.] = positive positive sentiment                                                           positive\n",
      "text                                                                  Great.\n",
      "review_id                                   a6f54fd646c4dc15c36b1fb555b38def\n",
      "order_id                                    bdf6434f99a355f695608dd18719b358\n",
      "review_score                                                               5\n",
      "review_comment_title                                                     NaN\n",
      "review_comment_message                                                 Otimo\n",
      "review_creation_date                                     2018-03-29 00:00:00\n",
      "review_answer_timestamp                                  2018-03-30 12:42:37\n",
      "prompt                     Analyze the sentiment of the news headline enc...\n",
      "Name: 33000, dtype: object\n"
     ]
    },
    {
     "name": "stderr",
     "output_type": "stream",
     "text": [
      " 81%|████████  | 33503/41600 [34:15<08:17, 16.27it/s]"
     ]
    },
    {
     "name": "stdout",
     "output_type": "stream",
     "text": [
      "Analyze the sentiment of the news headline enclosed in square brackets, \n",
      "                determine if it is positive, neutral, or negative, and return the answer as \n",
      "                the corresponding sentiment label \"positive\" or \"neutral\" or \"negative\".\n",
      "\n",
      "                [It was a good show. I got my product not the way I ordered it, because it came before the deadline, I over-recommended the site.] = neutral neutral sentiment                                                           positive\n",
      "text                       It was a good show. I got my product not the w...\n",
      "review_id                                   06489e11112e22a9af411dd86f6aac9e\n",
      "order_id                                    2d9b91a78d7d0b728d2c29ce3006d676\n",
      "review_score                                                               4\n",
      "review_comment_title                                 foi show sem problemas \n",
      "review_comment_message     Recebi meu produto sem do jeito que fiz meu pe...\n",
      "review_creation_date                                     2018-08-09 00:00:00\n",
      "review_answer_timestamp                                  2018-08-11 22:28:07\n",
      "prompt                     Analyze the sentiment of the news headline enc...\n",
      "Name: 33500, dtype: object\n"
     ]
    },
    {
     "name": "stderr",
     "output_type": "stream",
     "text": [
      " 82%|████████▏ | 34003/41600 [34:46<07:43, 16.38it/s]"
     ]
    },
    {
     "name": "stdout",
     "output_type": "stream",
     "text": [
      "Analyze the sentiment of the news headline enclosed in square brackets, \n",
      "                determine if it is positive, neutral, or negative, and return the answer as \n",
      "                the corresponding sentiment label \"positive\" or \"neutral\" or \"negative\".\n",
      "\n",
      "                [It should have been delivered faster. It's taking a long time.] = negative negative sentiment                                                            neutral\n",
      "text                       It should have been delivered faster. It's tak...\n",
      "review_id                                   6613e2281e969a93d58215a639b70a60\n",
      "order_id                                    0df3ae9792cce9ed0f0c9b95be40b8ef\n",
      "review_score                                                               3\n",
      "review_comment_title                                                     NaN\n",
      "review_comment_message     Deveria ser entregue mais rápido está demorand...\n",
      "review_creation_date                                     2018-03-18 00:00:00\n",
      "review_answer_timestamp                                  2018-03-18 11:50:18\n",
      "prompt                     Analyze the sentiment of the news headline enc...\n",
      "Name: 34000, dtype: object\n"
     ]
    },
    {
     "name": "stderr",
     "output_type": "stream",
     "text": [
      " 83%|████████▎ | 34503/41600 [35:16<07:17, 16.22it/s]"
     ]
    },
    {
     "name": "stdout",
     "output_type": "stream",
     "text": [
      "Analyze the sentiment of the news headline enclosed in square brackets, \n",
      "                determine if it is positive, neutral, or negative, and return the answer as \n",
      "                the corresponding sentiment label \"positive\" or \"neutral\" or \"negative\".\n",
      "\n",
      "                [They shouldn't have to wait that long for the product to arrive, and they should put a little bit cheaper first because it's gold plated, it would make the product more valuable, but it wouldn't mean no.] = neutral neutral sentiment                                                           negative\n",
      "text                       They shouldn't have to wait that long for the ...\n",
      "review_id                                   5e4dc0054dd3dbe358a2eabee41bda16\n",
      "order_id                                    5958fb8c6e854b986800307f995fd209\n",
      "review_score                                                               2\n",
      "review_comment_title                                                     NaN\n",
      "review_comment_message     Deveriam não ser tão demorado na entrega do pr...\n",
      "review_creation_date                                     2017-09-20 00:00:00\n",
      "review_answer_timestamp                                  2017-09-21 02:01:56\n",
      "prompt                     Analyze the sentiment of the news headline enc...\n",
      "Name: 34500, dtype: object\n"
     ]
    },
    {
     "name": "stderr",
     "output_type": "stream",
     "text": [
      " 84%|████████▍ | 34999/41600 [35:46<06:43, 16.38it/s]"
     ]
    },
    {
     "name": "stdout",
     "output_type": "stream",
     "text": [
      "Analyze the sentiment of the news headline enclosed in square brackets, \n",
      "                determine if it is positive, neutral, or negative, and return the answer as \n",
      "                the corresponding sentiment label \"positive\" or \"neutral\" or \"negative\".\n",
      "\n",
      "                [Check out this store. It's really good. I highly recommend it.] = positive positive sentiment                                                           positive\n",
      "text                       Check out this store. It's really good. I high...\n",
      "review_id                                   c52d724c314b897be2406632e17ebbc5\n",
      "order_id                                    e907b2e33705c695c9086a8e3ba8be42\n",
      "review_score                                                               4\n",
      "review_comment_title                                                     NaN\n",
      "review_comment_message             lannister essa loja e muito boa recomendo\n",
      "review_creation_date                                     2017-07-28 00:00:00\n",
      "review_answer_timestamp                                  2017-07-29 20:09:51\n",
      "prompt                     Analyze the sentiment of the news headline enc...\n",
      "Name: 35000, dtype: object\n",
      "\u001b[H\u001b[2J35001\n",
      "  sentiment predict_sentiment  \\\n",
      "0  positive           neutral   \n",
      "1  positive           neutral   \n",
      "2  positive           neutral   \n",
      "\n",
      "                                                text  \\\n",
      "0                  I got it well before my due date.   \n",
      "1  Thank you lannister stores I loved to buy thro...   \n",
      "2  I recommend it. I think it's effective. On the...   \n",
      "\n",
      "                          review_id                          order_id  \\\n",
      "0  e64fb393e7b32834bb789ff8bb30750e  658677c97b385a9be170737859d3511b   \n",
      "1  f7c4243c7fe1938f181bec41a392bdeb  8e6bfb81e283fa7e4f11123a3fb894f1   \n",
      "2  8670d52e15e00043ae7de4c01cc2fe06  b9bf720beb4ab3728760088589c62129   \n",
      "\n",
      "   review_score review_comment_title  \\\n",
      "0             5                  NaN   \n",
      "1             5                  NaN   \n",
      "2             4            recomendo   \n",
      "\n",
      "                              review_comment_message review_creation_date  \\\n",
      "0              Recebi bem antes do prazo estipulado.  2017-04-21 00:00:00   \n",
      "1  Parabéns lojas lannister adorei comprar pela I...  2018-03-01 00:00:00   \n",
      "2  aparelho eficiente. no site a marca do aparelh...  2018-05-22 00:00:00   \n",
      "\n",
      "  review_answer_timestamp  \n",
      "0     2017-04-21 22:02:06  \n",
      "1     2018-03-02 10:26:53  \n",
      "2     2018-05-23 16:45:47  \n"
     ]
    },
    {
     "name": "stderr",
     "output_type": "stream",
     "text": [
      " 84%|████████▍ | 35003/41600 [35:47<15:04,  7.29it/s]"
     ]
    },
    {
     "name": "stdout",
     "output_type": "stream",
     "text": [
      "处理完成，新文件已保存为 output/predicted_reviews_35001.csv\n",
      "Index(['sentiment', 'predict_sentiment', 'text', 'review_id', 'order_id',\n",
      "       'review_score', 'review_comment_title', 'review_comment_message',\n",
      "       'review_creation_date', 'review_answer_timestamp'],\n",
      "      dtype='object') 35001\n"
     ]
    },
    {
     "name": "stderr",
     "output_type": "stream",
     "text": [
      " 85%|████████▌ | 35503/41600 [36:18<06:13, 16.33it/s]"
     ]
    },
    {
     "name": "stdout",
     "output_type": "stream",
     "text": [
      "Analyze the sentiment of the news headline enclosed in square brackets, \n",
      "                determine if it is positive, neutral, or negative, and return the answer as \n",
      "                the corresponding sentiment label \"positive\" or \"neutral\" or \"negative\".\n",
      "\n",
      "                [.confidence, value and fairness.] = neutral neutral sentiment                                                           positive\n",
      "text                                        .confidence, value and fairness.\n",
      "review_id                                   9ceb97ba33509a8a566b251bedb72035\n",
      "order_id                                    f8c4580716ac69092b8428753aab516c\n",
      "review_score                                                               5\n",
      "review_comment_title                                                     NaN\n",
      "review_comment_message                     confiavel,varidade e preço justo.\n",
      "review_creation_date                                     2017-07-07 00:00:00\n",
      "review_answer_timestamp                                  2017-07-08 18:31:32\n",
      "prompt                     Analyze the sentiment of the news headline enc...\n",
      "Name: 35500, dtype: object\n"
     ]
    },
    {
     "name": "stderr",
     "output_type": "stream",
     "text": [
      " 87%|████████▋ | 36003/41600 [36:48<05:39, 16.47it/s]"
     ]
    },
    {
     "name": "stdout",
     "output_type": "stream",
     "text": [
      "Analyze the sentiment of the news headline enclosed in square brackets, \n",
      "                determine if it is positive, neutral, or negative, and return the answer as \n",
      "                the corresponding sentiment label \"positive\" or \"neutral\" or \"negative\".\n",
      "\n",
      "                [Great.] = positive positive sentiment                                                           positive\n",
      "text                                                                  Great.\n",
      "review_id                                   29bcc5f6af38b3dd9143c2ae6573aac2\n",
      "order_id                                    c5f2fc1736e716e61d88a8b5b6425603\n",
      "review_score                                                               5\n",
      "review_comment_title                                                     NaN\n",
      "review_comment_message                                                 Otimo\n",
      "review_creation_date                                     2017-08-15 00:00:00\n",
      "review_answer_timestamp                                  2017-08-15 23:29:12\n",
      "prompt                     Analyze the sentiment of the news headline enc...\n",
      "Name: 36000, dtype: object\n"
     ]
    },
    {
     "name": "stderr",
     "output_type": "stream",
     "text": [
      " 88%|████████▊ | 36503/41600 [37:19<05:09, 16.46it/s]"
     ]
    },
    {
     "name": "stdout",
     "output_type": "stream",
     "text": [
      "Analyze the sentiment of the news headline enclosed in square brackets, \n",
      "                determine if it is positive, neutral, or negative, and return the answer as \n",
      "                the corresponding sentiment label \"positive\" or \"neutral\" or \"negative\".\n",
      "\n",
      "                [The product arrived on time, excellent service. I enjoyed it.] = positive positive sentiment                                                           positive\n",
      "text                       The product arrived on time, excellent service...\n",
      "review_id                                   8aae9c7989026022b1153242cafa4095\n",
      "order_id                                    b387f865628d82d75c2c17b2f18e02fb\n",
      "review_score                                                               5\n",
      "review_comment_title                                                     NaN\n",
      "review_comment_message     O produto chegou dentro do prazo, excelente at...\n",
      "review_creation_date                                     2018-02-13 00:00:00\n",
      "review_answer_timestamp                                  2018-02-17 10:39:42\n",
      "prompt                     Analyze the sentiment of the news headline enc...\n",
      "Name: 36500, dtype: object\n"
     ]
    },
    {
     "name": "stderr",
     "output_type": "stream",
     "text": [
      " 89%|████████▉ | 37003/41600 [37:50<04:42, 16.27it/s]"
     ]
    },
    {
     "name": "stdout",
     "output_type": "stream",
     "text": [
      "Analyze the sentiment of the news headline enclosed in square brackets, \n",
      "                determine if it is positive, neutral, or negative, and return the answer as \n",
      "                the corresponding sentiment label \"positive\" or \"neutral\" or \"negative\".\n",
      "\n",
      "                [Better than expected. Great provider.] = positive positive sentiment                                                           positive\n",
      "text                                   Better than expected. Great provider.\n",
      "review_id                                   d2299d75554311d3a1fd1dd57091fe9c\n",
      "order_id                                    c514dba8d0ed614c6a397d2f0f3fe202\n",
      "review_score                                                               5\n",
      "review_comment_title                                    Melhor que esperado \n",
      "review_comment_message                                     Ótimo fornecedor \n",
      "review_creation_date                                     2018-08-08 00:00:00\n",
      "review_answer_timestamp                                  2018-08-09 15:12:45\n",
      "prompt                     Analyze the sentiment of the news headline enc...\n",
      "Name: 37000, dtype: object\n"
     ]
    },
    {
     "name": "stderr",
     "output_type": "stream",
     "text": [
      " 90%|█████████ | 37503/41600 [38:20<04:10, 16.33it/s]"
     ]
    },
    {
     "name": "stdout",
     "output_type": "stream",
     "text": [
      "Analyze the sentiment of the news headline enclosed in square brackets, \n",
      "                determine if it is positive, neutral, or negative, and return the answer as \n",
      "                the corresponding sentiment label \"positive\" or \"neutral\" or \"negative\".\n",
      "\n",
      "                [Great product. I recommend it. It came in on time, and the product is of great quality.] = positive positive sentiment                                                           positive\n",
      "text                       Great product. I recommend it. It came in on t...\n",
      "review_id                                   4620a67603ababb12a56f521a124a400\n",
      "order_id                                    62194497cd66edf084b172f8cdff8235\n",
      "review_score                                                               5\n",
      "review_comment_title                                          Ótimo produto!\n",
      "review_comment_message     Recomendo sim chegou no prazo e o produto é de...\n",
      "review_creation_date                                     2018-08-07 00:00:00\n",
      "review_answer_timestamp                                  2018-08-07 21:55:19\n",
      "prompt                     Analyze the sentiment of the news headline enc...\n",
      "Name: 37500, dtype: object\n"
     ]
    },
    {
     "name": "stderr",
     "output_type": "stream",
     "text": [
      " 91%|█████████▏| 38003/41600 [38:51<03:40, 16.32it/s]"
     ]
    },
    {
     "name": "stdout",
     "output_type": "stream",
     "text": [
      "Analyze the sentiment of the news headline enclosed in square brackets, \n",
      "                determine if it is positive, neutral, or negative, and return the answer as \n",
      "                the corresponding sentiment label \"positive\" or \"neutral\" or \"negative\".\n",
      "\n",
      "                [I recommend.] = neutral neutral sentiment                                                           positive\n",
      "text                                                            I recommend.\n",
      "review_id                                   5c0e0341b2115336ec6b975f5c8abfe8\n",
      "order_id                                    d1eb8e4e276a4eea13a5c462c0765e60\n",
      "review_score                                                               5\n",
      "review_comment_title                                                     NaN\n",
      "review_comment_message                                            Recomendo \n",
      "review_creation_date                                     2016-10-20 00:00:00\n",
      "review_answer_timestamp                                  2016-10-21 01:13:00\n",
      "prompt                     Analyze the sentiment of the news headline enc...\n",
      "Name: 38000, dtype: object\n"
     ]
    },
    {
     "name": "stderr",
     "output_type": "stream",
     "text": [
      " 93%|█████████▎| 38503/41600 [39:21<03:10, 16.27it/s]"
     ]
    },
    {
     "name": "stdout",
     "output_type": "stream",
     "text": [
      "Analyze the sentiment of the news headline enclosed in square brackets, \n",
      "                determine if it is positive, neutral, or negative, and return the answer as \n",
      "                the corresponding sentiment label \"positive\" or \"neutral\" or \"negative\".\n",
      "\n",
      "                [I recommend it. Exact product, best price on the Internet, very fast delivery on time.] = positive positive sentiment                                                           positive\n",
      "text                       I recommend it. Exact product, best price on t...\n",
      "review_id                                   f2b6272b6b6a6459cc69371c53167cf0\n",
      "order_id                                    0988e6e21a5bd6dee0c95d3a85970d98\n",
      "review_score                                                               5\n",
      "review_comment_title                                               Recomendo\n",
      "review_comment_message     Produto exato, melhor preço da internet, entre...\n",
      "review_creation_date                                     2018-06-27 00:00:00\n",
      "review_answer_timestamp                                  2018-07-02 19:04:36\n",
      "prompt                     Analyze the sentiment of the news headline enc...\n",
      "Name: 38500, dtype: object\n"
     ]
    },
    {
     "name": "stderr",
     "output_type": "stream",
     "text": [
      " 94%|█████████▍| 39003/41600 [39:52<02:38, 16.40it/s]"
     ]
    },
    {
     "name": "stdout",
     "output_type": "stream",
     "text": [
      "Analyze the sentiment of the news headline enclosed in square brackets, \n",
      "                determine if it is positive, neutral, or negative, and return the answer as \n",
      "                the corresponding sentiment label \"positive\" or \"neutral\" or \"negative\".\n",
      "\n",
      "                [I recommend it anyway.] = neutral neutral sentiment                                                           positive\n",
      "text                                                  I recommend it anyway.\n",
      "review_id                                   a47ebc074d1485c8753f5e72cbf3a815\n",
      "order_id                                    f283f9e890416ffcfd4d5d86821cfd46\n",
      "review_score                                                               5\n",
      "review_comment_title                                                     NaN\n",
      "review_comment_message                           Segunda compra recomendo...\n",
      "review_creation_date                                     2018-01-05 00:00:00\n",
      "review_answer_timestamp                                  2018-01-06 00:12:46\n",
      "prompt                     Analyze the sentiment of the news headline enc...\n",
      "Name: 39000, dtype: object\n"
     ]
    },
    {
     "name": "stderr",
     "output_type": "stream",
     "text": [
      " 95%|█████████▍| 39503/41600 [40:23<02:08, 16.36it/s]"
     ]
    },
    {
     "name": "stdout",
     "output_type": "stream",
     "text": [
      "Analyze the sentiment of the news headline enclosed in square brackets, \n",
      "                determine if it is positive, neutral, or negative, and return the answer as \n",
      "                the corresponding sentiment label \"positive\" or \"neutral\" or \"negative\".\n",
      "\n",
      "                [I got the right date. It's okay.] = neutral neutral sentiment                                                           positive\n",
      "text                                        I got the right date. It's okay.\n",
      "review_id                                   1bc58bb7ee43f136ac181fa26d1cd50b\n",
      "order_id                                    4cff7f0b5c2c6d7be3f10d0d202cbc2f\n",
      "review_score                                                               5\n",
      "review_comment_title                                                     NaN\n",
      "review_comment_message                        Recebi na data certa. Tudo ok!\n",
      "review_creation_date                                     2017-05-27 00:00:00\n",
      "review_answer_timestamp                                  2017-05-30 01:05:25\n",
      "prompt                     Analyze the sentiment of the news headline enc...\n",
      "Name: 39500, dtype: object\n"
     ]
    },
    {
     "name": "stderr",
     "output_type": "stream",
     "text": [
      " 96%|█████████▌| 39999/41600 [40:53<01:37, 16.41it/s]"
     ]
    },
    {
     "name": "stdout",
     "output_type": "stream",
     "text": [
      "Analyze the sentiment of the news headline enclosed in square brackets, \n",
      "                determine if it is positive, neutral, or negative, and return the answer as \n",
      "                the corresponding sentiment label \"positive\" or \"neutral\" or \"negative\".\n",
      "\n",
      "                [The box was packed full, and luckily, they were backpacks, so if there was another product that could have come in, it would have been damaged.] = neutral neutral sentiment                                                           positive\n",
      "text                       The box was packed full, and luckily, they wer...\n",
      "review_id                                   8b212805f79d4de49657b42e1e9024c2\n",
      "order_id                                    023af4b88d12c9f3f56bcb55da0450c5\n",
      "review_score                                                               4\n",
      "review_comment_title                                                     NaN\n",
      "review_comment_message     A caixa chegou totalmente amassada, por sorte ...\n",
      "review_creation_date                                     2018-01-09 00:00:00\n",
      "review_answer_timestamp                                  2018-01-22 03:19:11\n",
      "prompt                     Analyze the sentiment of the news headline enc...\n",
      "Name: 40000, dtype: object\n",
      "\u001b[H\u001b[2J40001\n",
      "  sentiment predict_sentiment  \\\n",
      "0  positive           neutral   \n",
      "1  positive           neutral   \n",
      "2  positive           neutral   \n",
      "\n",
      "                                                text  \\\n",
      "0                  I got it well before my due date.   \n",
      "1  Thank you lannister stores I loved to buy thro...   \n",
      "2  I recommend it. I think it's effective. On the...   \n",
      "\n",
      "                          review_id                          order_id  \\\n",
      "0  e64fb393e7b32834bb789ff8bb30750e  658677c97b385a9be170737859d3511b   \n",
      "1  f7c4243c7fe1938f181bec41a392bdeb  8e6bfb81e283fa7e4f11123a3fb894f1   \n",
      "2  8670d52e15e00043ae7de4c01cc2fe06  b9bf720beb4ab3728760088589c62129   \n",
      "\n",
      "   review_score review_comment_title  \\\n",
      "0             5                  NaN   \n",
      "1             5                  NaN   \n",
      "2             4            recomendo   \n",
      "\n",
      "                              review_comment_message review_creation_date  \\\n",
      "0              Recebi bem antes do prazo estipulado.  2017-04-21 00:00:00   \n",
      "1  Parabéns lojas lannister adorei comprar pela I...  2018-03-01 00:00:00   \n",
      "2  aparelho eficiente. no site a marca do aparelh...  2018-05-22 00:00:00   \n",
      "\n",
      "  review_answer_timestamp  \n",
      "0     2017-04-21 22:02:06  \n",
      "1     2018-03-02 10:26:53  \n",
      "2     2018-05-23 16:45:47  \n"
     ]
    },
    {
     "name": "stderr",
     "output_type": "stream",
     "text": [
      " 96%|█████████▌| 40003/41600 [40:54<03:57,  6.72it/s]"
     ]
    },
    {
     "name": "stdout",
     "output_type": "stream",
     "text": [
      "处理完成，新文件已保存为 output/predicted_reviews_40001.csv\n",
      "Index(['sentiment', 'predict_sentiment', 'text', 'review_id', 'order_id',\n",
      "       'review_score', 'review_comment_title', 'review_comment_message',\n",
      "       'review_creation_date', 'review_answer_timestamp'],\n",
      "      dtype='object') 40001\n"
     ]
    },
    {
     "name": "stderr",
     "output_type": "stream",
     "text": [
      " 97%|█████████▋| 40503/41600 [41:25<01:06, 16.38it/s]"
     ]
    },
    {
     "name": "stdout",
     "output_type": "stream",
     "text": [
      "Analyze the sentiment of the news headline enclosed in square brackets, \n",
      "                determine if it is positive, neutral, or negative, and return the answer as \n",
      "                the corresponding sentiment label \"positive\" or \"neutral\" or \"negative\".\n",
      "\n",
      "                [There's no point in making 2008.] = neutral neutral sentiment                                                           positive\n",
      "text                                        There's no point in making 2008.\n",
      "review_id                                   d3083ae04aa9a99daf68ce197a3efb7e\n",
      "order_id                                    fc297415452e5dc0d06afcd16e864ca8\n",
      "review_score                                                               5\n",
      "review_comment_title                                                     NaN\n",
      "review_comment_message                       Pinhão não serve na fazer 2008 \n",
      "review_creation_date                                     2017-11-08 00:00:00\n",
      "review_answer_timestamp                                  2017-11-08 11:43:07\n",
      "prompt                     Analyze the sentiment of the news headline enc...\n",
      "Name: 40500, dtype: object\n"
     ]
    },
    {
     "name": "stderr",
     "output_type": "stream",
     "text": [
      " 99%|█████████▊| 41003/41600 [41:55<00:36, 16.41it/s]"
     ]
    },
    {
     "name": "stdout",
     "output_type": "stream",
     "text": [
      "Analyze the sentiment of the news headline enclosed in square brackets, \n",
      "                determine if it is positive, neutral, or negative, and return the answer as \n",
      "                the corresponding sentiment label \"positive\" or \"neutral\" or \"negative\".\n",
      "\n",
      "                [The announced product does not belong to the EP 450; it's not on the radio.] = neutral neutral sentiment                                                           positive\n",
      "text                       The announced product does not belong to the E...\n",
      "review_id                                   a2cabdf200b8cbe315b30606bd3e7b9b\n",
      "order_id                                    125e0c61fdbfc589f33683322310b7a9\n",
      "review_score                                                               4\n",
      "review_comment_title                                                     NaN\n",
      "review_comment_message     O produto anunciado não pertence ao EP 450 não...\n",
      "review_creation_date                                     2018-03-28 00:00:00\n",
      "review_answer_timestamp                                  2018-04-03 17:00:28\n",
      "prompt                     Analyze the sentiment of the news headline enc...\n",
      "Name: 41000, dtype: object\n"
     ]
    },
    {
     "name": "stderr",
     "output_type": "stream",
     "text": [
      "100%|█████████▉| 41503/41600 [42:26<00:05, 16.32it/s]"
     ]
    },
    {
     "name": "stdout",
     "output_type": "stream",
     "text": [
      "Analyze the sentiment of the news headline enclosed in square brackets, \n",
      "                determine if it is positive, neutral, or negative, and return the answer as \n",
      "                the corresponding sentiment label \"positive\" or \"neutral\" or \"negative\".\n",
      "\n",
      "                [Good quality, beautiful product.] = neutral neutral sentiment                                                           positive\n",
      "text                                        Good quality, beautiful product.\n",
      "review_id                                   c24682eabda0197608fdccb153283f2f\n",
      "order_id                                    2a46a0636b60369577c40749497b77a4\n",
      "review_score                                                               5\n",
      "review_comment_title                                                     NaN\n",
      "review_comment_message                    Produto de boa qualidade e bonito.\n",
      "review_creation_date                                     2018-03-20 00:00:00\n",
      "review_answer_timestamp                                  2018-03-23 21:59:20\n",
      "prompt                     Analyze the sentiment of the news headline enc...\n",
      "Name: 41500, dtype: object\n"
     ]
    },
    {
     "name": "stderr",
     "output_type": "stream",
     "text": [
      "100%|█████████▉| 41599/41600 [42:32<00:00, 16.35it/s]"
     ]
    },
    {
     "name": "stdout",
     "output_type": "stream",
     "text": [
      "Analyze the sentiment of the news headline enclosed in square brackets, \n",
      "                determine if it is positive, neutral, or negative, and return the answer as \n",
      "                the corresponding sentiment label \"positive\" or \"neutral\" or \"negative\".\n",
      "\n",
      "                [Very fast. I liked the ease to buy fast delivery.] = positive positive sentiment                                                           positive\n",
      "text                       Very fast. I liked the ease to buy fast delivery.\n",
      "review_id                                   1ebb9e6fd55f241efb7861e58f9d8e70\n",
      "order_id                                    afed00b9cae687f1f1a07bad548aaa50\n",
      "review_score                                                               5\n",
      "review_comment_title                                            Muito rápido\n",
      "review_comment_message     Amei a facilidade para comprar a rapidez na en...\n",
      "review_creation_date                                     2018-07-07 00:00:00\n",
      "review_answer_timestamp                                  2018-07-07 22:18:25\n",
      "prompt                     Analyze the sentiment of the news headline enc...\n",
      "Name: 41599, dtype: object\n",
      "\u001b[H\u001b[2J41600\n",
      "  sentiment predict_sentiment  \\\n",
      "0  positive           neutral   \n",
      "1  positive           neutral   \n",
      "2  positive           neutral   \n",
      "\n",
      "                                                text  \\\n",
      "0                  I got it well before my due date.   \n",
      "1  Thank you lannister stores I loved to buy thro...   \n",
      "2  I recommend it. I think it's effective. On the...   \n",
      "\n",
      "                          review_id                          order_id  \\\n",
      "0  e64fb393e7b32834bb789ff8bb30750e  658677c97b385a9be170737859d3511b   \n",
      "1  f7c4243c7fe1938f181bec41a392bdeb  8e6bfb81e283fa7e4f11123a3fb894f1   \n",
      "2  8670d52e15e00043ae7de4c01cc2fe06  b9bf720beb4ab3728760088589c62129   \n",
      "\n",
      "   review_score review_comment_title  \\\n",
      "0             5                  NaN   \n",
      "1             5                  NaN   \n",
      "2             4            recomendo   \n",
      "\n",
      "                              review_comment_message review_creation_date  \\\n",
      "0              Recebi bem antes do prazo estipulado.  2017-04-21 00:00:00   \n",
      "1  Parabéns lojas lannister adorei comprar pela I...  2018-03-01 00:00:00   \n",
      "2  aparelho eficiente. no site a marca do aparelh...  2018-05-22 00:00:00   \n",
      "\n",
      "  review_answer_timestamp  \n",
      "0     2017-04-21 22:02:06  \n",
      "1     2018-03-02 10:26:53  \n",
      "2     2018-05-23 16:45:47  \n"
     ]
    },
    {
     "name": "stderr",
     "output_type": "stream",
     "text": [
      "100%|██████████| 41600/41600 [42:33<00:00, 16.29it/s]"
     ]
    },
    {
     "name": "stdout",
     "output_type": "stream",
     "text": [
      "处理完成，新文件已保存为 output/predicted_reviews_41600.csv\n",
      "Index(['sentiment', 'predict_sentiment', 'text', 'review_id', 'order_id',\n",
      "       'review_score', 'review_comment_title', 'review_comment_message',\n",
      "       'review_creation_date', 'review_answer_timestamp'],\n",
      "      dtype='object') 41600\n"
     ]
    },
    {
     "name": "stderr",
     "output_type": "stream",
     "text": [
      "\n"
     ]
    }
   ],
   "source": [
    "with torch.no_grad():\n",
    "    y_pred = predict(merged_model, tokenizer)\n"
   ]
  },
  {
   "cell_type": "code",
   "execution_count": 13,
   "metadata": {},
   "outputs": [
    {
     "name": "stdout",
     "output_type": "stream",
     "text": [
      "\u001b[H\u001b[2J41600\n",
      "Index(['sentiment', 'text', 'review_id', 'order_id', 'review_score',\n",
      "       'review_comment_title', 'review_comment_message',\n",
      "       'review_creation_date', 'review_answer_timestamp', 'prompt',\n",
      "       'predict_sentiment'],\n",
      "      dtype='object') 41600\n"
     ]
    }
   ],
   "source": [
    "os.system(\"clear\")\n",
    "n=len(y_pred)\n",
    "print(len(y_pred))\n",
    "new_df=df[:len(y_pred)]\n",
    "new_df['predict_sentiment']=y_pred\n",
    "#result_df = new_df[['sentiment','predict_sentiment', 'text','review_id', 'order_id', 'review_score', 'review_comment_title','review_comment_message', 'review_creation_date','review_answer_timestamp']]\n",
    "# print(new_df.head(3))\n",
    "# result_df.to_csv(f'output/predicted_reviews_{len(texts)}.csv', index=False)\n",
    "\n",
    "# print(f\"处理完成，新文件已保存为 output/predicted_reviews_{len(texts)}.csv\")\n",
    "print(new_df.columns,len(new_df))"
   ]
  },
  {
   "cell_type": "code",
   "execution_count": 20,
   "metadata": {},
   "outputs": [],
   "source": [
    "low_reviews_df=new_df[(new_df['sentiment']==new_df['predict_sentiment']) | (new_df['predict_sentiment']=='neutral') | (new_df['sentiment']=='neutral')][['sentiment','predict_sentiment', 'text','review_id', 'order_id', 'review_score', 'review_comment_title','review_comment_message', 'review_creation_date','review_answer_timestamp']]\n",
    "high_reviews_df=new_df[new_df['sentiment']==new_df['predict_sentiment']][['sentiment','predict_sentiment', 'text','review_id', 'order_id', 'review_score', 'review_comment_title','review_comment_message', 'review_creation_date','review_answer_timestamp']]"
   ]
  },
  {
   "cell_type": "code",
   "execution_count": 21,
   "metadata": {},
   "outputs": [
    {
     "name": "stdout",
     "output_type": "stream",
     "text": [
      "41021\n"
     ]
    },
    {
     "data": {
      "text/html": [
       "<div>\n",
       "<style scoped>\n",
       "    .dataframe tbody tr th:only-of-type {\n",
       "        vertical-align: middle;\n",
       "    }\n",
       "\n",
       "    .dataframe tbody tr th {\n",
       "        vertical-align: top;\n",
       "    }\n",
       "\n",
       "    .dataframe thead th {\n",
       "        text-align: right;\n",
       "    }\n",
       "</style>\n",
       "<table border=\"1\" class=\"dataframe\">\n",
       "  <thead>\n",
       "    <tr style=\"text-align: right;\">\n",
       "      <th></th>\n",
       "      <th>sentiment</th>\n",
       "      <th>predict_sentiment</th>\n",
       "      <th>text</th>\n",
       "      <th>review_id</th>\n",
       "      <th>order_id</th>\n",
       "      <th>review_score</th>\n",
       "      <th>review_comment_title</th>\n",
       "      <th>review_comment_message</th>\n",
       "      <th>review_creation_date</th>\n",
       "      <th>review_answer_timestamp</th>\n",
       "    </tr>\n",
       "  </thead>\n",
       "  <tbody>\n",
       "    <tr>\n",
       "      <th>0</th>\n",
       "      <td>positive</td>\n",
       "      <td>neutral</td>\n",
       "      <td>I got it well before my due date.</td>\n",
       "      <td>e64fb393e7b32834bb789ff8bb30750e</td>\n",
       "      <td>658677c97b385a9be170737859d3511b</td>\n",
       "      <td>5</td>\n",
       "      <td>NaN</td>\n",
       "      <td>Recebi bem antes do prazo estipulado.</td>\n",
       "      <td>2017-04-21 00:00:00</td>\n",
       "      <td>2017-04-21 22:02:06</td>\n",
       "    </tr>\n",
       "  </tbody>\n",
       "</table>\n",
       "</div>"
      ],
      "text/plain": [
       "  sentiment predict_sentiment                               text  \\\n",
       "0  positive           neutral  I got it well before my due date.   \n",
       "\n",
       "                          review_id                          order_id  \\\n",
       "0  e64fb393e7b32834bb789ff8bb30750e  658677c97b385a9be170737859d3511b   \n",
       "\n",
       "   review_score review_comment_title                 review_comment_message  \\\n",
       "0             5                  NaN  Recebi bem antes do prazo estipulado.   \n",
       "\n",
       "  review_creation_date review_answer_timestamp  \n",
       "0  2017-04-21 00:00:00     2017-04-21 22:02:06  "
      ]
     },
     "execution_count": 21,
     "metadata": {},
     "output_type": "execute_result"
    }
   ],
   "source": [
    "print(len(low_reviews_df))\n",
    "low_reviews_df.head(1)"
   ]
  },
  {
   "cell_type": "code",
   "execution_count": 22,
   "metadata": {},
   "outputs": [
    {
     "name": "stdout",
     "output_type": "stream",
     "text": [
      "19521\n"
     ]
    },
    {
     "data": {
      "text/html": [
       "<div>\n",
       "<style scoped>\n",
       "    .dataframe tbody tr th:only-of-type {\n",
       "        vertical-align: middle;\n",
       "    }\n",
       "\n",
       "    .dataframe tbody tr th {\n",
       "        vertical-align: top;\n",
       "    }\n",
       "\n",
       "    .dataframe thead th {\n",
       "        text-align: right;\n",
       "    }\n",
       "</style>\n",
       "<table border=\"1\" class=\"dataframe\">\n",
       "  <thead>\n",
       "    <tr style=\"text-align: right;\">\n",
       "      <th></th>\n",
       "      <th>sentiment</th>\n",
       "      <th>predict_sentiment</th>\n",
       "      <th>text</th>\n",
       "      <th>review_id</th>\n",
       "      <th>order_id</th>\n",
       "      <th>review_score</th>\n",
       "      <th>review_comment_title</th>\n",
       "      <th>review_comment_message</th>\n",
       "      <th>review_creation_date</th>\n",
       "      <th>review_answer_timestamp</th>\n",
       "    </tr>\n",
       "  </thead>\n",
       "  <tbody>\n",
       "    <tr>\n",
       "      <th>4</th>\n",
       "      <td>positive</td>\n",
       "      <td>positive</td>\n",
       "      <td>Great recommendation. Reliable customer, good ...</td>\n",
       "      <td>3948b09f7c818e2d86c9a546758b2335</td>\n",
       "      <td>e51478e7e277a83743b6f9991dbfa3fb</td>\n",
       "      <td>5</td>\n",
       "      <td>Super recomendo</td>\n",
       "      <td>Vendedor confiável, produto ok e entrega antes...</td>\n",
       "      <td>2018-05-23 00:00:00</td>\n",
       "      <td>2018-05-24 03:00:01</td>\n",
       "    </tr>\n",
       "  </tbody>\n",
       "</table>\n",
       "</div>"
      ],
      "text/plain": [
       "  sentiment predict_sentiment  \\\n",
       "4  positive          positive   \n",
       "\n",
       "                                                text  \\\n",
       "4  Great recommendation. Reliable customer, good ...   \n",
       "\n",
       "                          review_id                          order_id  \\\n",
       "4  3948b09f7c818e2d86c9a546758b2335  e51478e7e277a83743b6f9991dbfa3fb   \n",
       "\n",
       "   review_score review_comment_title  \\\n",
       "4             5      Super recomendo   \n",
       "\n",
       "                              review_comment_message review_creation_date  \\\n",
       "4  Vendedor confiável, produto ok e entrega antes...  2018-05-23 00:00:00   \n",
       "\n",
       "  review_answer_timestamp  \n",
       "4     2018-05-24 03:00:01  "
      ]
     },
     "execution_count": 22,
     "metadata": {},
     "output_type": "execute_result"
    }
   ],
   "source": [
    "print(len(high_reviews_df))\n",
    "high_reviews_df.head(1)"
   ]
  },
  {
   "cell_type": "code",
   "execution_count": 23,
   "metadata": {},
   "outputs": [],
   "source": [
    "not_low_reviews_df=new_df[~((new_df['sentiment']==new_df['predict_sentiment']) | (new_df['predict_sentiment']=='neutral') | (new_df['sentiment']=='neutral'))][['sentiment','predict_sentiment', 'text','review_id', 'order_id', 'review_score', 'review_comment_title','review_comment_message', 'review_creation_date','review_answer_timestamp']]\n",
    "not_high_reviews_df=new_df[~(new_df['sentiment']==new_df['predict_sentiment'])][['sentiment','predict_sentiment', 'text','review_id', 'order_id', 'review_score', 'review_comment_title','review_comment_message', 'review_creation_date','review_answer_timestamp']]"
   ]
  },
  {
   "cell_type": "code",
   "execution_count": 25,
   "metadata": {},
   "outputs": [
    {
     "name": "stdout",
     "output_type": "stream",
     "text": [
      "579\n"
     ]
    },
    {
     "data": {
      "text/html": [
       "<div>\n",
       "<style scoped>\n",
       "    .dataframe tbody tr th:only-of-type {\n",
       "        vertical-align: middle;\n",
       "    }\n",
       "\n",
       "    .dataframe tbody tr th {\n",
       "        vertical-align: top;\n",
       "    }\n",
       "\n",
       "    .dataframe thead th {\n",
       "        text-align: right;\n",
       "    }\n",
       "</style>\n",
       "<table border=\"1\" class=\"dataframe\">\n",
       "  <thead>\n",
       "    <tr style=\"text-align: right;\">\n",
       "      <th></th>\n",
       "      <th>sentiment</th>\n",
       "      <th>predict_sentiment</th>\n",
       "      <th>text</th>\n",
       "      <th>review_id</th>\n",
       "      <th>order_id</th>\n",
       "      <th>review_score</th>\n",
       "      <th>review_comment_title</th>\n",
       "      <th>review_comment_message</th>\n",
       "      <th>review_creation_date</th>\n",
       "      <th>review_answer_timestamp</th>\n",
       "    </tr>\n",
       "  </thead>\n",
       "  <tbody>\n",
       "    <tr>\n",
       "      <th>68</th>\n",
       "      <td>positive</td>\n",
       "      <td>negative</td>\n",
       "      <td>If it was glass it broke; it came in the box w...</td>\n",
       "      <td>14613df954694f243dedeaa2c8a3a5c2</td>\n",
       "      <td>1e91914c9706a5d4665b8c5a6294b107</td>\n",
       "      <td>4</td>\n",
       "      <td>4</td>\n",
       "      <td>Se fosse vidro tinha quebrado; veio na caixa ...</td>\n",
       "      <td>2018-05-15 00:00:00</td>\n",
       "      <td>2018-05-16 23:41:51</td>\n",
       "    </tr>\n",
       "    <tr>\n",
       "      <th>188</th>\n",
       "      <td>positive</td>\n",
       "      <td>negative</td>\n",
       "      <td>It's a poor product. I have no question about ...</td>\n",
       "      <td>6d7d0a5e33c92adf782b137720eeefa6</td>\n",
       "      <td>d9aefa5d4ccd369c783f5121e069a470</td>\n",
       "      <td>5</td>\n",
       "      <td>produto fraco</td>\n",
       "      <td>quanto ao site não tenho o que questionar! sem...</td>\n",
       "      <td>2018-05-11 00:00:00</td>\n",
       "      <td>2018-05-14 12:04:52</td>\n",
       "    </tr>\n",
       "    <tr>\n",
       "      <th>189</th>\n",
       "      <td>positive</td>\n",
       "      <td>negative</td>\n",
       "      <td>Bombs are everywhere.</td>\n",
       "      <td>5f8ed42b9eee8adbd7344caca4ca507e</td>\n",
       "      <td>05ad071b550b1cf2815e8bf3bec3291f</td>\n",
       "      <td>4</td>\n",
       "      <td>NaN</td>\n",
       "      <td>bom em todos os aspectos</td>\n",
       "      <td>2017-05-20 00:00:00</td>\n",
       "      <td>2017-05-23 10:43:03</td>\n",
       "    </tr>\n",
       "    <tr>\n",
       "      <th>245</th>\n",
       "      <td>positive</td>\n",
       "      <td>none</td>\n",
       "      <td>Note 10.</td>\n",
       "      <td>31b60e2f8f2acfe8f213ca252f1066c1</td>\n",
       "      <td>7dc5018fbc594b1ce9a945e6bcfc83c3</td>\n",
       "      <td>5</td>\n",
       "      <td>NaN</td>\n",
       "      <td>nota 10</td>\n",
       "      <td>2018-04-25 00:00:00</td>\n",
       "      <td>2018-04-28 17:14:18</td>\n",
       "    </tr>\n",
       "  </tbody>\n",
       "</table>\n",
       "</div>"
      ],
      "text/plain": [
       "    sentiment predict_sentiment  \\\n",
       "68   positive          negative   \n",
       "188  positive          negative   \n",
       "189  positive          negative   \n",
       "245  positive              none   \n",
       "\n",
       "                                                  text  \\\n",
       "68   If it was glass it broke; it came in the box w...   \n",
       "188  It's a poor product. I have no question about ...   \n",
       "189                              Bombs are everywhere.   \n",
       "245                                           Note 10.   \n",
       "\n",
       "                            review_id                          order_id  \\\n",
       "68   14613df954694f243dedeaa2c8a3a5c2  1e91914c9706a5d4665b8c5a6294b107   \n",
       "188  6d7d0a5e33c92adf782b137720eeefa6  d9aefa5d4ccd369c783f5121e069a470   \n",
       "189  5f8ed42b9eee8adbd7344caca4ca507e  05ad071b550b1cf2815e8bf3bec3291f   \n",
       "245  31b60e2f8f2acfe8f213ca252f1066c1  7dc5018fbc594b1ce9a945e6bcfc83c3   \n",
       "\n",
       "     review_score review_comment_title  \\\n",
       "68              4                   4    \n",
       "188             5       produto fraco    \n",
       "189             4                  NaN   \n",
       "245             5                  NaN   \n",
       "\n",
       "                                review_comment_message review_creation_date  \\\n",
       "68    Se fosse vidro tinha quebrado; veio na caixa ...  2018-05-15 00:00:00   \n",
       "188  quanto ao site não tenho o que questionar! sem...  2018-05-11 00:00:00   \n",
       "189                           bom em todos os aspectos  2017-05-20 00:00:00   \n",
       "245                                            nota 10  2018-04-25 00:00:00   \n",
       "\n",
       "    review_answer_timestamp  \n",
       "68      2018-05-16 23:41:51  \n",
       "188     2018-05-14 12:04:52  \n",
       "189     2017-05-23 10:43:03  \n",
       "245     2018-04-28 17:14:18  "
      ]
     },
     "execution_count": 25,
     "metadata": {},
     "output_type": "execute_result"
    }
   ],
   "source": [
    "print(len(not_low_reviews_df))\n",
    "not_low_reviews_df.head(4)"
   ]
  },
  {
   "cell_type": "code",
   "execution_count": 26,
   "metadata": {},
   "outputs": [
    {
     "name": "stdout",
     "output_type": "stream",
     "text": [
      "22079\n"
     ]
    },
    {
     "data": {
      "text/html": [
       "<div>\n",
       "<style scoped>\n",
       "    .dataframe tbody tr th:only-of-type {\n",
       "        vertical-align: middle;\n",
       "    }\n",
       "\n",
       "    .dataframe tbody tr th {\n",
       "        vertical-align: top;\n",
       "    }\n",
       "\n",
       "    .dataframe thead th {\n",
       "        text-align: right;\n",
       "    }\n",
       "</style>\n",
       "<table border=\"1\" class=\"dataframe\">\n",
       "  <thead>\n",
       "    <tr style=\"text-align: right;\">\n",
       "      <th></th>\n",
       "      <th>sentiment</th>\n",
       "      <th>predict_sentiment</th>\n",
       "      <th>text</th>\n",
       "      <th>review_id</th>\n",
       "      <th>order_id</th>\n",
       "      <th>review_score</th>\n",
       "      <th>review_comment_title</th>\n",
       "      <th>review_comment_message</th>\n",
       "      <th>review_creation_date</th>\n",
       "      <th>review_answer_timestamp</th>\n",
       "    </tr>\n",
       "  </thead>\n",
       "  <tbody>\n",
       "    <tr>\n",
       "      <th>0</th>\n",
       "      <td>positive</td>\n",
       "      <td>neutral</td>\n",
       "      <td>I got it well before my due date.</td>\n",
       "      <td>e64fb393e7b32834bb789ff8bb30750e</td>\n",
       "      <td>658677c97b385a9be170737859d3511b</td>\n",
       "      <td>5</td>\n",
       "      <td>NaN</td>\n",
       "      <td>Recebi bem antes do prazo estipulado.</td>\n",
       "      <td>2017-04-21 00:00:00</td>\n",
       "      <td>2017-04-21 22:02:06</td>\n",
       "    </tr>\n",
       "    <tr>\n",
       "      <th>1</th>\n",
       "      <td>positive</td>\n",
       "      <td>neutral</td>\n",
       "      <td>Thank you lannister stores I loved to buy thro...</td>\n",
       "      <td>f7c4243c7fe1938f181bec41a392bdeb</td>\n",
       "      <td>8e6bfb81e283fa7e4f11123a3fb894f1</td>\n",
       "      <td>5</td>\n",
       "      <td>NaN</td>\n",
       "      <td>Parabéns lojas lannister adorei comprar pela I...</td>\n",
       "      <td>2018-03-01 00:00:00</td>\n",
       "      <td>2018-03-02 10:26:53</td>\n",
       "    </tr>\n",
       "    <tr>\n",
       "      <th>2</th>\n",
       "      <td>positive</td>\n",
       "      <td>neutral</td>\n",
       "      <td>I recommend it. I think it's effective. On the...</td>\n",
       "      <td>8670d52e15e00043ae7de4c01cc2fe06</td>\n",
       "      <td>b9bf720beb4ab3728760088589c62129</td>\n",
       "      <td>4</td>\n",
       "      <td>recomendo</td>\n",
       "      <td>aparelho eficiente. no site a marca do aparelh...</td>\n",
       "      <td>2018-05-22 00:00:00</td>\n",
       "      <td>2018-05-23 16:45:47</td>\n",
       "    </tr>\n",
       "    <tr>\n",
       "      <th>3</th>\n",
       "      <td>positive</td>\n",
       "      <td>neutral</td>\n",
       "      <td>But a little bit of labor for that good value.</td>\n",
       "      <td>4b49719c8a200003f700d3d986ea1a19</td>\n",
       "      <td>9d6f15f95d01e79bd1349cc208361f09</td>\n",
       "      <td>4</td>\n",
       "      <td>NaN</td>\n",
       "      <td>Mas um pouco ,travando...pelo valor ta Boa.\\r\\n</td>\n",
       "      <td>2018-02-16 00:00:00</td>\n",
       "      <td>2018-02-20 10:52:22</td>\n",
       "    </tr>\n",
       "  </tbody>\n",
       "</table>\n",
       "</div>"
      ],
      "text/plain": [
       "  sentiment predict_sentiment  \\\n",
       "0  positive           neutral   \n",
       "1  positive           neutral   \n",
       "2  positive           neutral   \n",
       "3  positive           neutral   \n",
       "\n",
       "                                                text  \\\n",
       "0                  I got it well before my due date.   \n",
       "1  Thank you lannister stores I loved to buy thro...   \n",
       "2  I recommend it. I think it's effective. On the...   \n",
       "3     But a little bit of labor for that good value.   \n",
       "\n",
       "                          review_id                          order_id  \\\n",
       "0  e64fb393e7b32834bb789ff8bb30750e  658677c97b385a9be170737859d3511b   \n",
       "1  f7c4243c7fe1938f181bec41a392bdeb  8e6bfb81e283fa7e4f11123a3fb894f1   \n",
       "2  8670d52e15e00043ae7de4c01cc2fe06  b9bf720beb4ab3728760088589c62129   \n",
       "3  4b49719c8a200003f700d3d986ea1a19  9d6f15f95d01e79bd1349cc208361f09   \n",
       "\n",
       "   review_score review_comment_title  \\\n",
       "0             5                  NaN   \n",
       "1             5                  NaN   \n",
       "2             4            recomendo   \n",
       "3             4                  NaN   \n",
       "\n",
       "                              review_comment_message review_creation_date  \\\n",
       "0              Recebi bem antes do prazo estipulado.  2017-04-21 00:00:00   \n",
       "1  Parabéns lojas lannister adorei comprar pela I...  2018-03-01 00:00:00   \n",
       "2  aparelho eficiente. no site a marca do aparelh...  2018-05-22 00:00:00   \n",
       "3    Mas um pouco ,travando...pelo valor ta Boa.\\r\\n  2018-02-16 00:00:00   \n",
       "\n",
       "  review_answer_timestamp  \n",
       "0     2017-04-21 22:02:06  \n",
       "1     2018-03-02 10:26:53  \n",
       "2     2018-05-23 16:45:47  \n",
       "3     2018-02-20 10:52:22  "
      ]
     },
     "execution_count": 26,
     "metadata": {},
     "output_type": "execute_result"
    }
   ],
   "source": [
    "print(len(not_high_reviews_df))\n",
    "not_high_reviews_df.head(4)"
   ]
  },
  {
   "cell_type": "code",
   "execution_count": 29,
   "metadata": {},
   "outputs": [],
   "source": [
    "not_high_reviews_df.to_csv(f'output/not_high_reviews.csv', index=False)\n",
    "not_low_reviews_df.to_csv(f'output/not_low_reviews.csv', index=False)\n",
    "high_reviews_df.to_csv(f'output/high_reviews.csv', index=False)\n",
    "low_reviews_df.to_csv(f'output/low_reviews.csv', index=False)"
   ]
  },
  {
   "cell_type": "code",
   "execution_count": null,
   "metadata": {},
   "outputs": [
    {
     "name": "stdout",
     "output_type": "stream",
     "text": [
      "579\n"
     ]
    },
    {
     "data": {
      "text/html": [
       "<div>\n",
       "<style scoped>\n",
       "    .dataframe tbody tr th:only-of-type {\n",
       "        vertical-align: middle;\n",
       "    }\n",
       "\n",
       "    .dataframe tbody tr th {\n",
       "        vertical-align: top;\n",
       "    }\n",
       "\n",
       "    .dataframe thead th {\n",
       "        text-align: right;\n",
       "    }\n",
       "</style>\n",
       "<table border=\"1\" class=\"dataframe\">\n",
       "  <thead>\n",
       "    <tr style=\"text-align: right;\">\n",
       "      <th></th>\n",
       "      <th>sentiment</th>\n",
       "      <th>predict_sentiment</th>\n",
       "      <th>text</th>\n",
       "      <th>review_id</th>\n",
       "      <th>order_id</th>\n",
       "      <th>review_score</th>\n",
       "      <th>review_comment_title</th>\n",
       "      <th>review_comment_message</th>\n",
       "      <th>review_creation_date</th>\n",
       "      <th>review_answer_timestamp</th>\n",
       "    </tr>\n",
       "  </thead>\n",
       "  <tbody>\n",
       "    <tr>\n",
       "      <th>68</th>\n",
       "      <td>positive</td>\n",
       "      <td>negative</td>\n",
       "      <td>If it was glass it broke; it came in the box w...</td>\n",
       "      <td>14613df954694f243dedeaa2c8a3a5c2</td>\n",
       "      <td>1e91914c9706a5d4665b8c5a6294b107</td>\n",
       "      <td>4</td>\n",
       "      <td>4</td>\n",
       "      <td>Se fosse vidro tinha quebrado; veio na caixa ...</td>\n",
       "      <td>2018-05-15 00:00:00</td>\n",
       "      <td>2018-05-16 23:41:51</td>\n",
       "    </tr>\n",
       "    <tr>\n",
       "      <th>188</th>\n",
       "      <td>positive</td>\n",
       "      <td>negative</td>\n",
       "      <td>It's a poor product. I have no question about ...</td>\n",
       "      <td>6d7d0a5e33c92adf782b137720eeefa6</td>\n",
       "      <td>d9aefa5d4ccd369c783f5121e069a470</td>\n",
       "      <td>5</td>\n",
       "      <td>produto fraco</td>\n",
       "      <td>quanto ao site não tenho o que questionar! sem...</td>\n",
       "      <td>2018-05-11 00:00:00</td>\n",
       "      <td>2018-05-14 12:04:52</td>\n",
       "    </tr>\n",
       "    <tr>\n",
       "      <th>189</th>\n",
       "      <td>positive</td>\n",
       "      <td>negative</td>\n",
       "      <td>Bombs are everywhere.</td>\n",
       "      <td>5f8ed42b9eee8adbd7344caca4ca507e</td>\n",
       "      <td>05ad071b550b1cf2815e8bf3bec3291f</td>\n",
       "      <td>4</td>\n",
       "      <td>NaN</td>\n",
       "      <td>bom em todos os aspectos</td>\n",
       "      <td>2017-05-20 00:00:00</td>\n",
       "      <td>2017-05-23 10:43:03</td>\n",
       "    </tr>\n",
       "    <tr>\n",
       "      <th>245</th>\n",
       "      <td>positive</td>\n",
       "      <td>none</td>\n",
       "      <td>Note 10.</td>\n",
       "      <td>31b60e2f8f2acfe8f213ca252f1066c1</td>\n",
       "      <td>7dc5018fbc594b1ce9a945e6bcfc83c3</td>\n",
       "      <td>5</td>\n",
       "      <td>NaN</td>\n",
       "      <td>nota 10</td>\n",
       "      <td>2018-04-25 00:00:00</td>\n",
       "      <td>2018-04-28 17:14:18</td>\n",
       "    </tr>\n",
       "  </tbody>\n",
       "</table>\n",
       "</div>"
      ],
      "text/plain": [
       "    sentiment predict_sentiment  \\\n",
       "68   positive          negative   \n",
       "188  positive          negative   \n",
       "189  positive          negative   \n",
       "245  positive              none   \n",
       "\n",
       "                                                  text  \\\n",
       "68   If it was glass it broke; it came in the box w...   \n",
       "188  It's a poor product. I have no question about ...   \n",
       "189                              Bombs are everywhere.   \n",
       "245                                           Note 10.   \n",
       "\n",
       "                            review_id                          order_id  \\\n",
       "68   14613df954694f243dedeaa2c8a3a5c2  1e91914c9706a5d4665b8c5a6294b107   \n",
       "188  6d7d0a5e33c92adf782b137720eeefa6  d9aefa5d4ccd369c783f5121e069a470   \n",
       "189  5f8ed42b9eee8adbd7344caca4ca507e  05ad071b550b1cf2815e8bf3bec3291f   \n",
       "245  31b60e2f8f2acfe8f213ca252f1066c1  7dc5018fbc594b1ce9a945e6bcfc83c3   \n",
       "\n",
       "     review_score review_comment_title  \\\n",
       "68              4                   4    \n",
       "188             5       produto fraco    \n",
       "189             4                  NaN   \n",
       "245             5                  NaN   \n",
       "\n",
       "                                review_comment_message review_creation_date  \\\n",
       "68    Se fosse vidro tinha quebrado; veio na caixa ...  2018-05-15 00:00:00   \n",
       "188  quanto ao site não tenho o que questionar! sem...  2018-05-11 00:00:00   \n",
       "189                           bom em todos os aspectos  2017-05-20 00:00:00   \n",
       "245                                            nota 10  2018-04-25 00:00:00   \n",
       "\n",
       "    review_answer_timestamp  \n",
       "68      2018-05-16 23:41:51  \n",
       "188     2018-05-14 12:04:52  \n",
       "189     2017-05-23 10:43:03  \n",
       "245     2018-04-28 17:14:18  "
      ]
     },
     "execution_count": 28,
     "metadata": {},
     "output_type": "execute_result"
    }
   ],
   "source": []
  }
 ],
 "metadata": {
  "kernelspec": {
   "display_name": "datamining",
   "language": "python",
   "name": "python3"
  },
  "language_info": {
   "codemirror_mode": {
    "name": "ipython",
    "version": 3
   },
   "file_extension": ".py",
   "mimetype": "text/x-python",
   "name": "python",
   "nbconvert_exporter": "python",
   "pygments_lexer": "ipython3",
   "version": "3.9.18"
  }
 },
 "nbformat": 4,
 "nbformat_minor": 2
}
